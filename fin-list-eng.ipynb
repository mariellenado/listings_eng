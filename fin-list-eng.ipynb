{
 "cells": [
  {
   "cell_type": "code",
   "execution_count": 127,
   "id": "7a94360b-5c46-42fb-8449-7073d981f736",
   "metadata": {},
   "outputs": [],
   "source": [
    "import numpy as np\n",
    "import pandas as pd\n",
    "import matplotlib.pyplot as plt\n",
    "import matplotlib.image as mpimg\n",
    "%matplotlib inline\n",
    "import seaborn as sns\n",
    "sns.set(style='darkgrid')\n",
    "import plotly.express as px\n",
    "import plotly.graph_objects as go\n",
    "import dataframe_image as dfi\n",
    "import warnings\n",
    "warnings.filterwarnings(\"ignore\")\n",
    "pd.options.mode.chained_assignment = None"
   ]
  },
  {
   "cell_type": "code",
   "execution_count": 128,
   "id": "c7378626-b50c-492f-9394-377521ded7e8",
   "metadata": {},
   "outputs": [
    {
     "data": {
      "text/html": [
       "<div>\n",
       "<style scoped>\n",
       "    .dataframe tbody tr th:only-of-type {\n",
       "        vertical-align: middle;\n",
       "    }\n",
       "\n",
       "    .dataframe tbody tr th {\n",
       "        vertical-align: top;\n",
       "    }\n",
       "\n",
       "    .dataframe thead th {\n",
       "        text-align: right;\n",
       "    }\n",
       "</style>\n",
       "<table border=\"1\" class=\"dataframe\">\n",
       "  <thead>\n",
       "    <tr style=\"text-align: right;\">\n",
       "      <th></th>\n",
       "      <th>Unnamed: 0</th>\n",
       "      <th>location</th>\n",
       "      <th>name</th>\n",
       "      <th>beds</th>\n",
       "      <th>date</th>\n",
       "      <th>price</th>\n",
       "      <th>rating</th>\n",
       "      <th>Type_of_Airbnb_Listing</th>\n",
       "      <th>City</th>\n",
       "      <th>Reviews_Overall_Rating</th>\n",
       "      <th>#_of_Reviews</th>\n",
       "    </tr>\n",
       "  </thead>\n",
       "  <tbody>\n",
       "    <tr>\n",
       "      <th>0</th>\n",
       "      <td>0</td>\n",
       "      <td>Private room in Makati</td>\n",
       "      <td>TKA 407: Fully Furnished Studio near Makati CBD</td>\n",
       "      <td>1 double bed</td>\n",
       "      <td>Sep 20 – 27</td>\n",
       "      <td>16</td>\n",
       "      <td>4.8 (49)</td>\n",
       "      <td>Private room</td>\n",
       "      <td>Makati</td>\n",
       "      <td>4.8</td>\n",
       "      <td>49</td>\n",
       "    </tr>\n",
       "    <tr>\n",
       "      <th>1</th>\n",
       "      <td>1</td>\n",
       "      <td>Apartment in Makati</td>\n",
       "      <td>TKA 408: Fully Furnished Studio near Makati CBD</td>\n",
       "      <td>1 double bed</td>\n",
       "      <td>Sep 25 – Oct 2</td>\n",
       "      <td>16</td>\n",
       "      <td>4.76 (45)</td>\n",
       "      <td>Apartment</td>\n",
       "      <td>Makati</td>\n",
       "      <td>4.76</td>\n",
       "      <td>45</td>\n",
       "    </tr>\n",
       "    <tr>\n",
       "      <th>2</th>\n",
       "      <td>2</td>\n",
       "      <td>Apartment in Makati</td>\n",
       "      <td>Spectacular View at Gramercy 69th 1BR Penthouse!⭐</td>\n",
       "      <td>1 bed</td>\n",
       "      <td>Nov 12 – 19</td>\n",
       "      <td>91</td>\n",
       "      <td>4.79 (213)</td>\n",
       "      <td>Apartment</td>\n",
       "      <td>Makati</td>\n",
       "      <td>4.79</td>\n",
       "      <td>213</td>\n",
       "    </tr>\n",
       "    <tr>\n",
       "      <th>3</th>\n",
       "      <td>3</td>\n",
       "      <td>Private room in Makati</td>\n",
       "      <td>Backpackers Private Room @ Makati</td>\n",
       "      <td>1 single bed</td>\n",
       "      <td>Aug 3 – 10</td>\n",
       "      <td>10</td>\n",
       "      <td>4.94 (16)</td>\n",
       "      <td>Private room</td>\n",
       "      <td>Makati</td>\n",
       "      <td>4.94</td>\n",
       "      <td>16</td>\n",
       "    </tr>\n",
       "    <tr>\n",
       "      <th>4</th>\n",
       "      <td>4</td>\n",
       "      <td>Apartment in Makati</td>\n",
       "      <td>Top Location! Makati Greenbelt Laureano Di Trevi</td>\n",
       "      <td>1 queen bed</td>\n",
       "      <td>Dec 15 – 22</td>\n",
       "      <td>18</td>\n",
       "      <td>4.4 (10)</td>\n",
       "      <td>Apartment</td>\n",
       "      <td>Makati</td>\n",
       "      <td>4.4</td>\n",
       "      <td>10</td>\n",
       "    </tr>\n",
       "    <tr>\n",
       "      <th>...</th>\n",
       "      <td>...</td>\n",
       "      <td>...</td>\n",
       "      <td>...</td>\n",
       "      <td>...</td>\n",
       "      <td>...</td>\n",
       "      <td>...</td>\n",
       "      <td>...</td>\n",
       "      <td>...</td>\n",
       "      <td>...</td>\n",
       "      <td>...</td>\n",
       "      <td>...</td>\n",
       "    </tr>\n",
       "    <tr>\n",
       "      <th>295</th>\n",
       "      <td>295</td>\n",
       "      <td>Condo in Makati</td>\n",
       "      <td>Beautiful Studio apartment with full amenities</td>\n",
       "      <td>1 bed</td>\n",
       "      <td>Nov 3 – 10</td>\n",
       "      <td>30</td>\n",
       "      <td>5.0 (7)</td>\n",
       "      <td>Condo</td>\n",
       "      <td>Makati</td>\n",
       "      <td>5.0</td>\n",
       "      <td>7</td>\n",
       "    </tr>\n",
       "    <tr>\n",
       "      <th>296</th>\n",
       "      <td>296</td>\n",
       "      <td>Condo in Quezon City</td>\n",
       "      <td>City View 1 BR Unit @ GRASS RES T4 WiFi &amp; NETFLIX</td>\n",
       "      <td>2 beds</td>\n",
       "      <td>Feb 8 – 15</td>\n",
       "      <td>28</td>\n",
       "      <td>4.88 (34)</td>\n",
       "      <td>Condo</td>\n",
       "      <td>Quezon City</td>\n",
       "      <td>4.88</td>\n",
       "      <td>34</td>\n",
       "    </tr>\n",
       "    <tr>\n",
       "      <th>297</th>\n",
       "      <td>297</td>\n",
       "      <td>Loft in Makati</td>\n",
       "      <td>Premium loft unit beside the pool in Makati  (...</td>\n",
       "      <td>1 bed</td>\n",
       "      <td>Aug 5 – 12</td>\n",
       "      <td>32</td>\n",
       "      <td>4.77 (14)</td>\n",
       "      <td>Loft</td>\n",
       "      <td>Makati</td>\n",
       "      <td>4.77</td>\n",
       "      <td>14</td>\n",
       "    </tr>\n",
       "    <tr>\n",
       "      <th>298</th>\n",
       "      <td>298</td>\n",
       "      <td>Condo in Makati</td>\n",
       "      <td>Corner View Oasis @ Greenbelt. Fast Wifi, +Net...</td>\n",
       "      <td>1 bed</td>\n",
       "      <td>Aug 25 – Sep 1</td>\n",
       "      <td>48</td>\n",
       "      <td>New</td>\n",
       "      <td>Condo</td>\n",
       "      <td>Makati</td>\n",
       "      <td>0</td>\n",
       "      <td>0</td>\n",
       "    </tr>\n",
       "    <tr>\n",
       "      <th>299</th>\n",
       "      <td>299</td>\n",
       "      <td>Condo in Quezon City</td>\n",
       "      <td>Cozy Spacious BR Unit in Eastwood with WiFi &amp; ...</td>\n",
       "      <td>2 beds</td>\n",
       "      <td>Sep 15 – 22</td>\n",
       "      <td>45</td>\n",
       "      <td>4.91 (65)</td>\n",
       "      <td>Condo</td>\n",
       "      <td>Quezon City</td>\n",
       "      <td>4.91</td>\n",
       "      <td>65</td>\n",
       "    </tr>\n",
       "  </tbody>\n",
       "</table>\n",
       "<p>300 rows × 11 columns</p>\n",
       "</div>"
      ],
      "text/plain": [
       "     Unnamed: 0                location  \\\n",
       "0             0  Private room in Makati   \n",
       "1             1     Apartment in Makati   \n",
       "2             2     Apartment in Makati   \n",
       "3             3  Private room in Makati   \n",
       "4             4     Apartment in Makati   \n",
       "..          ...                     ...   \n",
       "295         295         Condo in Makati   \n",
       "296         296    Condo in Quezon City   \n",
       "297         297          Loft in Makati   \n",
       "298         298         Condo in Makati   \n",
       "299         299    Condo in Quezon City   \n",
       "\n",
       "                                                  name          beds  \\\n",
       "0      TKA 407: Fully Furnished Studio near Makati CBD  1 double bed   \n",
       "1      TKA 408: Fully Furnished Studio near Makati CBD  1 double bed   \n",
       "2    Spectacular View at Gramercy 69th 1BR Penthouse!⭐         1 bed   \n",
       "3                    Backpackers Private Room @ Makati  1 single bed   \n",
       "4     Top Location! Makati Greenbelt Laureano Di Trevi   1 queen bed   \n",
       "..                                                 ...           ...   \n",
       "295     Beautiful Studio apartment with full amenities         1 bed   \n",
       "296  City View 1 BR Unit @ GRASS RES T4 WiFi & NETFLIX        2 beds   \n",
       "297  Premium loft unit beside the pool in Makati  (...         1 bed   \n",
       "298  Corner View Oasis @ Greenbelt. Fast Wifi, +Net...         1 bed   \n",
       "299  Cozy Spacious BR Unit in Eastwood with WiFi & ...        2 beds   \n",
       "\n",
       "               date price      rating Type_of_Airbnb_Listing         City  \\\n",
       "0       Sep 20 – 27    16    4.8 (49)           Private room       Makati   \n",
       "1    Sep 25 – Oct 2    16   4.76 (45)              Apartment       Makati   \n",
       "2       Nov 12 – 19    91  4.79 (213)              Apartment       Makati   \n",
       "3        Aug 3 – 10    10   4.94 (16)           Private room       Makati   \n",
       "4       Dec 15 – 22    18    4.4 (10)              Apartment       Makati   \n",
       "..              ...   ...         ...                    ...          ...   \n",
       "295      Nov 3 – 10    30     5.0 (7)                  Condo       Makati   \n",
       "296      Feb 8 – 15    28   4.88 (34)                  Condo  Quezon City   \n",
       "297      Aug 5 – 12    32   4.77 (14)                   Loft       Makati   \n",
       "298  Aug 25 – Sep 1    48         New                  Condo       Makati   \n",
       "299     Sep 15 – 22    45   4.91 (65)                  Condo  Quezon City   \n",
       "\n",
       "    Reviews_Overall_Rating #_of_Reviews  \n",
       "0                      4.8           49  \n",
       "1                     4.76           45  \n",
       "2                     4.79          213  \n",
       "3                     4.94           16  \n",
       "4                      4.4           10  \n",
       "..                     ...          ...  \n",
       "295                    5.0            7  \n",
       "296                   4.88           34  \n",
       "297                   4.77           14  \n",
       "298                      0            0  \n",
       "299                   4.91           65  \n",
       "\n",
       "[300 rows x 11 columns]"
      ]
     },
     "execution_count": 128,
     "metadata": {},
     "output_type": "execute_result"
    }
   ],
   "source": [
    "df = pd.read_csv(\"listingsEnglish2.csv\")\n",
    "df[\"location_list\"]=df[\"location\"].str.split(\" in \")\n",
    "df[[\"Type_of_Airbnb_Listing\", \"City\"]] = pd.DataFrame(df.location_list.tolist(), index= df.index)\n",
    "df[[\"Type_of_Airbnb_Listing\", \"City\"]] = pd.DataFrame(df.location_list.tolist(), index= df.index)\n",
    "df[\"rating_list\"]=df[\"rating\"].str.split(\" \")\n",
    "df[[\"Reviews_Overall_Rating\", \"#_of_Reviews\"]] = pd.DataFrame(df.rating_list.tolist(), index= df.index)\n",
    "df[\"#_of_Reviews\"]=df[\"#_of_Reviews\"].str.extract('(\\d+)')\n",
    "df = df.drop(['location_list','rating_list'], axis=1)\n",
    "df[\"price\"]= df[\"price\"].str.extract('(\\d+)')\n",
    "df[\"Reviews_Overall_Rating\"].replace('New', 0,inplace=True)\n",
    "df['#_of_Reviews'] = df['#_of_Reviews'].fillna(0)\n",
    "#df[\"#_of_Reviews\"] = df[\"#_of_Reviews\"].replace('NaN', 0,inplace=True)\n",
    "#pattern = 'New'\n",
    "#df['Reviews_Overall_Rating'] = df['Reviews_Overall_Rating'].astype(str).str.extract(pattern).fillna(0)\n",
    "df"
   ]
  },
  {
   "cell_type": "code",
   "execution_count": 129,
   "id": "9d6c8e2e-fe4f-470f-8f15-b644a9d1263a",
   "metadata": {},
   "outputs": [],
   "source": [
    "df.rename(columns = {'name':'Name_of_Listing', 'beds':'Beds_Available',\n",
    "                              'price':'Price_in_USD'}, inplace = True)"
   ]
  },
  {
   "cell_type": "code",
   "execution_count": 130,
   "id": "881889f3-894a-43ea-80e8-9afac09d54be",
   "metadata": {},
   "outputs": [],
   "source": [
    "df = df[['Name_of_Listing', 'City','Type_of_Airbnb_Listing','Beds_Available', 'Price_in_USD','Reviews_Overall_Rating','#_of_Reviews']]"
   ]
  },
  {
   "cell_type": "code",
   "execution_count": 131,
   "id": "ed61b05a-295d-40ba-bea8-7c455193c45a",
   "metadata": {},
   "outputs": [
    {
     "data": {
      "text/html": [
       "<div>\n",
       "<style scoped>\n",
       "    .dataframe tbody tr th:only-of-type {\n",
       "        vertical-align: middle;\n",
       "    }\n",
       "\n",
       "    .dataframe tbody tr th {\n",
       "        vertical-align: top;\n",
       "    }\n",
       "\n",
       "    .dataframe thead th {\n",
       "        text-align: right;\n",
       "    }\n",
       "</style>\n",
       "<table border=\"1\" class=\"dataframe\">\n",
       "  <thead>\n",
       "    <tr style=\"text-align: right;\">\n",
       "      <th></th>\n",
       "      <th>Name_of_Listing</th>\n",
       "      <th>City</th>\n",
       "      <th>Type_of_Airbnb_Listing</th>\n",
       "      <th>Beds_Available</th>\n",
       "      <th>Price_in_USD</th>\n",
       "      <th>Reviews_Overall_Rating</th>\n",
       "      <th>#_of_Reviews</th>\n",
       "    </tr>\n",
       "  </thead>\n",
       "  <tbody>\n",
       "    <tr>\n",
       "      <th>0</th>\n",
       "      <td>TKA 407: Fully Furnished Studio near Makati CBD</td>\n",
       "      <td>Makati</td>\n",
       "      <td>Private room</td>\n",
       "      <td>1 double bed</td>\n",
       "      <td>16</td>\n",
       "      <td>4.8</td>\n",
       "      <td>49</td>\n",
       "    </tr>\n",
       "    <tr>\n",
       "      <th>1</th>\n",
       "      <td>TKA 408: Fully Furnished Studio near Makati CBD</td>\n",
       "      <td>Makati</td>\n",
       "      <td>Apartment</td>\n",
       "      <td>1 double bed</td>\n",
       "      <td>16</td>\n",
       "      <td>4.76</td>\n",
       "      <td>45</td>\n",
       "    </tr>\n",
       "    <tr>\n",
       "      <th>2</th>\n",
       "      <td>Spectacular View at Gramercy 69th 1BR Penthouse!⭐</td>\n",
       "      <td>Makati</td>\n",
       "      <td>Apartment</td>\n",
       "      <td>1 bed</td>\n",
       "      <td>91</td>\n",
       "      <td>4.79</td>\n",
       "      <td>213</td>\n",
       "    </tr>\n",
       "    <tr>\n",
       "      <th>3</th>\n",
       "      <td>Backpackers Private Room @ Makati</td>\n",
       "      <td>Makati</td>\n",
       "      <td>Private room</td>\n",
       "      <td>1 single bed</td>\n",
       "      <td>10</td>\n",
       "      <td>4.94</td>\n",
       "      <td>16</td>\n",
       "    </tr>\n",
       "    <tr>\n",
       "      <th>4</th>\n",
       "      <td>Top Location! Makati Greenbelt Laureano Di Trevi</td>\n",
       "      <td>Makati</td>\n",
       "      <td>Apartment</td>\n",
       "      <td>1 queen bed</td>\n",
       "      <td>18</td>\n",
       "      <td>4.4</td>\n",
       "      <td>10</td>\n",
       "    </tr>\n",
       "  </tbody>\n",
       "</table>\n",
       "</div>"
      ],
      "text/plain": [
       "                                     Name_of_Listing    City  \\\n",
       "0    TKA 407: Fully Furnished Studio near Makati CBD  Makati   \n",
       "1    TKA 408: Fully Furnished Studio near Makati CBD  Makati   \n",
       "2  Spectacular View at Gramercy 69th 1BR Penthouse!⭐  Makati   \n",
       "3                  Backpackers Private Room @ Makati  Makati   \n",
       "4   Top Location! Makati Greenbelt Laureano Di Trevi  Makati   \n",
       "\n",
       "  Type_of_Airbnb_Listing Beds_Available Price_in_USD Reviews_Overall_Rating  \\\n",
       "0           Private room   1 double bed           16                    4.8   \n",
       "1              Apartment   1 double bed           16                   4.76   \n",
       "2              Apartment          1 bed           91                   4.79   \n",
       "3           Private room   1 single bed           10                   4.94   \n",
       "4              Apartment    1 queen bed           18                    4.4   \n",
       "\n",
       "  #_of_Reviews  \n",
       "0           49  \n",
       "1           45  \n",
       "2          213  \n",
       "3           16  \n",
       "4           10  "
      ]
     },
     "execution_count": 131,
     "metadata": {},
     "output_type": "execute_result"
    }
   ],
   "source": [
    "df.head()"
   ]
  },
  {
   "cell_type": "markdown",
   "id": "3571bcad-6f61-47d0-95b1-abb7fd29ecc0",
   "metadata": {},
   "source": [
    "# Creating a DataFrame with UNIQUE Values as data is scraped from the Airbnb Manila Website"
   ]
  },
  {
   "cell_type": "code",
   "execution_count": 132,
   "id": "3e5a6dff-74b8-4461-87ed-e9be3b80a02e",
   "metadata": {},
   "outputs": [],
   "source": [
    "dfUNIQUE=df.drop_duplicates(subset = [\"Name_of_Listing\"])"
   ]
  },
  {
   "cell_type": "code",
   "execution_count": 136,
   "id": "12fdb71b-2290-4854-9759-1827b27c46c5",
   "metadata": {},
   "outputs": [
    {
     "data": {
      "text/plain": [
       "254"
      ]
     },
     "execution_count": 136,
     "metadata": {},
     "output_type": "execute_result"
    }
   ],
   "source": [
    "len(dfUNIQUE)"
   ]
  },
  {
   "cell_type": "code",
   "execution_count": 137,
   "id": "3b04ed44-4fa3-4d83-b050-38f2b3e3431d",
   "metadata": {},
   "outputs": [],
   "source": [
    "# Out of the 300 scraped listings, only 254 are unique"
   ]
  },
  {
   "cell_type": "code",
   "execution_count": 138,
   "id": "2a88c0bb-d048-4bda-ad2a-22207ef19783",
   "metadata": {},
   "outputs": [],
   "source": [
    "# Getting the Unique Types of Airbnb Listings"
   ]
  },
  {
   "cell_type": "code",
   "execution_count": 139,
   "id": "f650b2b2-b289-4ad7-9326-bf6783eaa015",
   "metadata": {},
   "outputs": [
    {
     "data": {
      "text/plain": [
       "Condo            169\n",
       "Apartment         50\n",
       "Private room      25\n",
       "Loft               5\n",
       "Hotel room         3\n",
       "Home               1\n",
       "Vacation home      1\n",
       "Name: Type_of_Airbnb_Listing, dtype: int64"
      ]
     },
     "execution_count": 139,
     "metadata": {},
     "output_type": "execute_result"
    }
   ],
   "source": [
    "dfUNIQUE.Type_of_Airbnb_Listing.value_counts()"
   ]
  },
  {
   "cell_type": "code",
   "execution_count": 140,
   "id": "dcce8854-33d7-4312-8bf8-442ba89f3d59",
   "metadata": {},
   "outputs": [],
   "source": [
    "# Inspecting the Unique Locations"
   ]
  },
  {
   "cell_type": "code",
   "execution_count": 133,
   "id": "7716fa2a-21f0-4ed7-82cc-4b048a1a6e55",
   "metadata": {},
   "outputs": [
    {
     "data": {
      "text/plain": [
       "count    254.000000\n",
       "mean      33.625984\n",
       "std       18.530337\n",
       "min       10.000000\n",
       "25%       22.000000\n",
       "50%       29.000000\n",
       "75%       41.000000\n",
       "max      153.000000\n",
       "Name: Price_in_USD, dtype: float64"
      ]
     },
     "execution_count": 133,
     "metadata": {},
     "output_type": "execute_result"
    }
   ],
   "source": [
    "dfUNIQUE['Price_in_USD']=dfUNIQUE['Price_in_USD'].astype('int')\n",
    "dfUNIQUE.Price_in_USD.describe()"
   ]
  },
  {
   "cell_type": "code",
   "execution_count": 134,
   "id": "4d81e034-52a2-4fa9-8b90-e88ba76bf041",
   "metadata": {},
   "outputs": [],
   "source": [
    "dfUNIQUE['#_of_Reviews']=dfUNIQUE['#_of_Reviews'].astype('int')"
   ]
  },
  {
   "cell_type": "code",
   "execution_count": 135,
   "id": "bc578cc7-c906-4bc5-a6c4-c323882f5234",
   "metadata": {},
   "outputs": [
    {
     "data": {
      "text/plain": [
       "count    254.000000\n",
       "mean      33.625984\n",
       "std       18.530337\n",
       "min       10.000000\n",
       "25%       22.000000\n",
       "50%       29.000000\n",
       "75%       41.000000\n",
       "max      153.000000\n",
       "Name: Price_in_USD, dtype: float64"
      ]
     },
     "execution_count": 135,
     "metadata": {},
     "output_type": "execute_result"
    }
   ],
   "source": [
    "dfUNIQUE['Reviews_Overall_Rating']=dfUNIQUE['Reviews_Overall_Rating'].astype('float')\n",
    "dfUNIQUE.Price_in_USD.describe()"
   ]
  },
  {
   "cell_type": "code",
   "execution_count": 80,
   "id": "5b516e52-1641-4f66-a3fd-285746d46623",
   "metadata": {},
   "outputs": [
    {
     "data": {
      "text/plain": [
       "Condo            169\n",
       "Apartment         50\n",
       "Private room      25\n",
       "Loft               5\n",
       "Hotel room         3\n",
       "Home               1\n",
       "Vacation home      1\n",
       "Name: Type_of_Airbnb_Listing, dtype: int64"
      ]
     },
     "execution_count": 80,
     "metadata": {},
     "output_type": "execute_result"
    }
   ],
   "source": [
    "dfUNIQUE.Type_of_Airbnb_Listing.value_counts()"
   ]
  },
  {
   "cell_type": "code",
   "execution_count": 81,
   "id": "8cbdb945-206f-4de5-94ce-a54a883bcc03",
   "metadata": {},
   "outputs": [
    {
     "data": {
      "text/plain": [
       "Makati            138\n",
       "Manila             35\n",
       "Quezon City        27\n",
       "Mandaluyong        20\n",
       "Pasay              19\n",
       "Taguig              8\n",
       "Pasig               2\n",
       "Paco                1\n",
       "Malate              1\n",
       "Pasay City          1\n",
       "Lungsod Quezon      1\n",
       "Parañaque           1\n",
       "Name: City, dtype: int64"
      ]
     },
     "execution_count": 81,
     "metadata": {},
     "output_type": "execute_result"
    }
   ],
   "source": [
    "dfUNIQUE.City.value_counts()"
   ]
  },
  {
   "cell_type": "code",
   "execution_count": 141,
   "id": "0cfb4bf6-b37b-4f7e-94d6-795f1466e92c",
   "metadata": {},
   "outputs": [],
   "source": [
    "dfUNIQUE['City'].replace('Malate', 'Manila',inplace=True)\n",
    "dfUNIQUE['City'].replace('Lungsod Quezon', 'Quezon City',inplace=True)\n",
    "dfUNIQUE['City'].replace('Paco ', 'Manila',inplace=True)\n",
    "dfUNIQUE['City'].replace('Pasay City', 'Pasay',inplace=True)"
   ]
  },
  {
   "cell_type": "code",
   "execution_count": 83,
   "id": "6981327d-458e-4b8b-9f25-a2f33158894c",
   "metadata": {},
   "outputs": [
    {
     "data": {
      "text/plain": [
       "Makati         138\n",
       "Manila          37\n",
       "Quezon City     28\n",
       "Mandaluyong     20\n",
       "Pasay           20\n",
       "Taguig           8\n",
       "Pasig            2\n",
       "Parañaque        1\n",
       "Name: City, dtype: int64"
      ]
     },
     "execution_count": 83,
     "metadata": {},
     "output_type": "execute_result"
    }
   ],
   "source": [
    "dfUNIQUE.City.value_counts()"
   ]
  },
  {
   "cell_type": "code",
   "execution_count": 84,
   "id": "cdde8fc1-7d8e-4550-81af-86583e7ceef5",
   "metadata": {},
   "outputs": [
    {
     "data": {
      "text/html": [
       "<div>\n",
       "<style scoped>\n",
       "    .dataframe tbody tr th:only-of-type {\n",
       "        vertical-align: middle;\n",
       "    }\n",
       "\n",
       "    .dataframe tbody tr th {\n",
       "        vertical-align: top;\n",
       "    }\n",
       "\n",
       "    .dataframe thead th {\n",
       "        text-align: right;\n",
       "    }\n",
       "</style>\n",
       "<table border=\"1\" class=\"dataframe\">\n",
       "  <thead>\n",
       "    <tr style=\"text-align: right;\">\n",
       "      <th></th>\n",
       "      <th>Name_of_Listing</th>\n",
       "      <th>City</th>\n",
       "      <th>Type_of_Airbnb_Listing</th>\n",
       "      <th>Beds_Available</th>\n",
       "      <th>Price_in_USD</th>\n",
       "      <th>Reviews_Overall_Rating</th>\n",
       "      <th>#_of_Reviews</th>\n",
       "    </tr>\n",
       "  </thead>\n",
       "  <tbody>\n",
       "    <tr>\n",
       "      <th>0</th>\n",
       "      <td>TKA 407: Fully Furnished Studio near Makati CBD</td>\n",
       "      <td>Makati</td>\n",
       "      <td>Private room</td>\n",
       "      <td>1 double bed</td>\n",
       "      <td>16</td>\n",
       "      <td>4.8</td>\n",
       "      <td>49</td>\n",
       "    </tr>\n",
       "    <tr>\n",
       "      <th>1</th>\n",
       "      <td>TKA 408: Fully Furnished Studio near Makati CBD</td>\n",
       "      <td>Makati</td>\n",
       "      <td>Apartment</td>\n",
       "      <td>1 double bed</td>\n",
       "      <td>16</td>\n",
       "      <td>4.76</td>\n",
       "      <td>45</td>\n",
       "    </tr>\n",
       "    <tr>\n",
       "      <th>2</th>\n",
       "      <td>Spectacular View at Gramercy 69th 1BR Penthouse!⭐</td>\n",
       "      <td>Makati</td>\n",
       "      <td>Apartment</td>\n",
       "      <td>1 bed</td>\n",
       "      <td>91</td>\n",
       "      <td>4.79</td>\n",
       "      <td>213</td>\n",
       "    </tr>\n",
       "    <tr>\n",
       "      <th>3</th>\n",
       "      <td>Backpackers Private Room @ Makati</td>\n",
       "      <td>Makati</td>\n",
       "      <td>Private room</td>\n",
       "      <td>1 single bed</td>\n",
       "      <td>10</td>\n",
       "      <td>4.94</td>\n",
       "      <td>16</td>\n",
       "    </tr>\n",
       "    <tr>\n",
       "      <th>4</th>\n",
       "      <td>Top Location! Makati Greenbelt Laureano Di Trevi</td>\n",
       "      <td>Makati</td>\n",
       "      <td>Apartment</td>\n",
       "      <td>1 queen bed</td>\n",
       "      <td>18</td>\n",
       "      <td>4.4</td>\n",
       "      <td>10</td>\n",
       "    </tr>\n",
       "    <tr>\n",
       "      <th>...</th>\n",
       "      <td>...</td>\n",
       "      <td>...</td>\n",
       "      <td>...</td>\n",
       "      <td>...</td>\n",
       "      <td>...</td>\n",
       "      <td>...</td>\n",
       "      <td>...</td>\n",
       "    </tr>\n",
       "    <tr>\n",
       "      <th>293</th>\n",
       "      <td>BGC Designer Loft  - 2 BR Golf View</td>\n",
       "      <td>Taguig</td>\n",
       "      <td>Condo</td>\n",
       "      <td>2 beds</td>\n",
       "      <td>81</td>\n",
       "      <td>4.64</td>\n",
       "      <td>72</td>\n",
       "    </tr>\n",
       "    <tr>\n",
       "      <th>295</th>\n",
       "      <td>Beautiful Studio apartment with full amenities</td>\n",
       "      <td>Makati</td>\n",
       "      <td>Condo</td>\n",
       "      <td>1 bed</td>\n",
       "      <td>30</td>\n",
       "      <td>5.0</td>\n",
       "      <td>7</td>\n",
       "    </tr>\n",
       "    <tr>\n",
       "      <th>296</th>\n",
       "      <td>City View 1 BR Unit @ GRASS RES T4 WiFi &amp; NETFLIX</td>\n",
       "      <td>Quezon City</td>\n",
       "      <td>Condo</td>\n",
       "      <td>2 beds</td>\n",
       "      <td>28</td>\n",
       "      <td>4.88</td>\n",
       "      <td>34</td>\n",
       "    </tr>\n",
       "    <tr>\n",
       "      <th>298</th>\n",
       "      <td>Corner View Oasis @ Greenbelt. Fast Wifi, +Net...</td>\n",
       "      <td>Makati</td>\n",
       "      <td>Condo</td>\n",
       "      <td>1 bed</td>\n",
       "      <td>48</td>\n",
       "      <td>0</td>\n",
       "      <td>0</td>\n",
       "    </tr>\n",
       "    <tr>\n",
       "      <th>299</th>\n",
       "      <td>Cozy Spacious BR Unit in Eastwood with WiFi &amp; ...</td>\n",
       "      <td>Quezon City</td>\n",
       "      <td>Condo</td>\n",
       "      <td>2 beds</td>\n",
       "      <td>45</td>\n",
       "      <td>4.91</td>\n",
       "      <td>65</td>\n",
       "    </tr>\n",
       "  </tbody>\n",
       "</table>\n",
       "<p>254 rows × 7 columns</p>\n",
       "</div>"
      ],
      "text/plain": [
       "                                       Name_of_Listing         City  \\\n",
       "0      TKA 407: Fully Furnished Studio near Makati CBD       Makati   \n",
       "1      TKA 408: Fully Furnished Studio near Makati CBD       Makati   \n",
       "2    Spectacular View at Gramercy 69th 1BR Penthouse!⭐       Makati   \n",
       "3                    Backpackers Private Room @ Makati       Makati   \n",
       "4     Top Location! Makati Greenbelt Laureano Di Trevi       Makati   \n",
       "..                                                 ...          ...   \n",
       "293                BGC Designer Loft  - 2 BR Golf View       Taguig   \n",
       "295     Beautiful Studio apartment with full amenities       Makati   \n",
       "296  City View 1 BR Unit @ GRASS RES T4 WiFi & NETFLIX  Quezon City   \n",
       "298  Corner View Oasis @ Greenbelt. Fast Wifi, +Net...       Makati   \n",
       "299  Cozy Spacious BR Unit in Eastwood with WiFi & ...  Quezon City   \n",
       "\n",
       "    Type_of_Airbnb_Listing Beds_Available Price_in_USD Reviews_Overall_Rating  \\\n",
       "0             Private room   1 double bed           16                    4.8   \n",
       "1                Apartment   1 double bed           16                   4.76   \n",
       "2                Apartment          1 bed           91                   4.79   \n",
       "3             Private room   1 single bed           10                   4.94   \n",
       "4                Apartment    1 queen bed           18                    4.4   \n",
       "..                     ...            ...          ...                    ...   \n",
       "293                  Condo         2 beds           81                   4.64   \n",
       "295                  Condo          1 bed           30                    5.0   \n",
       "296                  Condo         2 beds           28                   4.88   \n",
       "298                  Condo          1 bed           48                      0   \n",
       "299                  Condo         2 beds           45                   4.91   \n",
       "\n",
       "    #_of_Reviews  \n",
       "0             49  \n",
       "1             45  \n",
       "2            213  \n",
       "3             16  \n",
       "4             10  \n",
       "..           ...  \n",
       "293           72  \n",
       "295            7  \n",
       "296           34  \n",
       "298            0  \n",
       "299           65  \n",
       "\n",
       "[254 rows x 7 columns]"
      ]
     },
     "execution_count": 84,
     "metadata": {},
     "output_type": "execute_result"
    }
   ],
   "source": [
    "dfUNIQUE"
   ]
  },
  {
   "cell_type": "code",
   "execution_count": 142,
   "id": "10abc109-1045-4a91-b9ac-57529f3b52c9",
   "metadata": {},
   "outputs": [],
   "source": [
    "dfUNIQUE['Reviews_Overall_Rating'].replace('New', 0,inplace=True)\n",
    "dfUNIQUE['#_of_Reviews']=dfUNIQUE['#_of_Reviews'].fillna(0)"
   ]
  },
  {
   "cell_type": "code",
   "execution_count": 34,
   "id": "e4817ba6-6c20-498f-8da4-07156a2ad17d",
   "metadata": {},
   "outputs": [
    {
     "data": {
      "text/html": [
       "<div>\n",
       "<style scoped>\n",
       "    .dataframe tbody tr th:only-of-type {\n",
       "        vertical-align: middle;\n",
       "    }\n",
       "\n",
       "    .dataframe tbody tr th {\n",
       "        vertical-align: top;\n",
       "    }\n",
       "\n",
       "    .dataframe thead th {\n",
       "        text-align: right;\n",
       "    }\n",
       "</style>\n",
       "<table border=\"1\" class=\"dataframe\">\n",
       "  <thead>\n",
       "    <tr style=\"text-align: right;\">\n",
       "      <th></th>\n",
       "      <th>Name_of_Listing</th>\n",
       "      <th>City</th>\n",
       "      <th>Type_of_Airbnb_Listing</th>\n",
       "      <th>Beds_Available</th>\n",
       "      <th>Price_in_USD</th>\n",
       "      <th>Reviews_Overall_Rating</th>\n",
       "      <th>#_of_Reviews</th>\n",
       "    </tr>\n",
       "  </thead>\n",
       "  <tbody>\n",
       "    <tr>\n",
       "      <th>0</th>\n",
       "      <td>TKA 407: Fully Furnished Studio near Makati CBD</td>\n",
       "      <td>Makati</td>\n",
       "      <td>Private room</td>\n",
       "      <td>1 double bed</td>\n",
       "      <td>16</td>\n",
       "      <td>4.8</td>\n",
       "      <td>49</td>\n",
       "    </tr>\n",
       "    <tr>\n",
       "      <th>1</th>\n",
       "      <td>TKA 408: Fully Furnished Studio near Makati CBD</td>\n",
       "      <td>Makati</td>\n",
       "      <td>Apartment</td>\n",
       "      <td>1 double bed</td>\n",
       "      <td>16</td>\n",
       "      <td>4.76</td>\n",
       "      <td>45</td>\n",
       "    </tr>\n",
       "    <tr>\n",
       "      <th>2</th>\n",
       "      <td>Spectacular View at Gramercy 69th 1BR Penthouse!⭐</td>\n",
       "      <td>Makati</td>\n",
       "      <td>Apartment</td>\n",
       "      <td>1 bed</td>\n",
       "      <td>91</td>\n",
       "      <td>4.79</td>\n",
       "      <td>213</td>\n",
       "    </tr>\n",
       "    <tr>\n",
       "      <th>3</th>\n",
       "      <td>Backpackers Private Room @ Makati</td>\n",
       "      <td>Makati</td>\n",
       "      <td>Private room</td>\n",
       "      <td>1 single bed</td>\n",
       "      <td>10</td>\n",
       "      <td>4.94</td>\n",
       "      <td>16</td>\n",
       "    </tr>\n",
       "    <tr>\n",
       "      <th>4</th>\n",
       "      <td>Top Location! Makati Greenbelt Laureano Di Trevi</td>\n",
       "      <td>Makati</td>\n",
       "      <td>Apartment</td>\n",
       "      <td>1 queen bed</td>\n",
       "      <td>18</td>\n",
       "      <td>4.4</td>\n",
       "      <td>10</td>\n",
       "    </tr>\n",
       "    <tr>\n",
       "      <th>...</th>\n",
       "      <td>...</td>\n",
       "      <td>...</td>\n",
       "      <td>...</td>\n",
       "      <td>...</td>\n",
       "      <td>...</td>\n",
       "      <td>...</td>\n",
       "      <td>...</td>\n",
       "    </tr>\n",
       "    <tr>\n",
       "      <th>293</th>\n",
       "      <td>BGC Designer Loft  - 2 BR Golf View</td>\n",
       "      <td>Taguig</td>\n",
       "      <td>Condo</td>\n",
       "      <td>2 beds</td>\n",
       "      <td>81</td>\n",
       "      <td>4.64</td>\n",
       "      <td>72</td>\n",
       "    </tr>\n",
       "    <tr>\n",
       "      <th>295</th>\n",
       "      <td>Beautiful Studio apartment with full amenities</td>\n",
       "      <td>Makati</td>\n",
       "      <td>Condo</td>\n",
       "      <td>1 bed</td>\n",
       "      <td>30</td>\n",
       "      <td>5.0</td>\n",
       "      <td>7</td>\n",
       "    </tr>\n",
       "    <tr>\n",
       "      <th>296</th>\n",
       "      <td>City View 1 BR Unit @ GRASS RES T4 WiFi &amp; NETFLIX</td>\n",
       "      <td>Quezon City</td>\n",
       "      <td>Condo</td>\n",
       "      <td>2 beds</td>\n",
       "      <td>28</td>\n",
       "      <td>4.88</td>\n",
       "      <td>34</td>\n",
       "    </tr>\n",
       "    <tr>\n",
       "      <th>298</th>\n",
       "      <td>Corner View Oasis @ Greenbelt. Fast Wifi, +Net...</td>\n",
       "      <td>Makati</td>\n",
       "      <td>Condo</td>\n",
       "      <td>1 bed</td>\n",
       "      <td>48</td>\n",
       "      <td>0</td>\n",
       "      <td>0</td>\n",
       "    </tr>\n",
       "    <tr>\n",
       "      <th>299</th>\n",
       "      <td>Cozy Spacious BR Unit in Eastwood with WiFi &amp; ...</td>\n",
       "      <td>Quezon City</td>\n",
       "      <td>Condo</td>\n",
       "      <td>2 beds</td>\n",
       "      <td>45</td>\n",
       "      <td>4.91</td>\n",
       "      <td>65</td>\n",
       "    </tr>\n",
       "  </tbody>\n",
       "</table>\n",
       "<p>254 rows × 7 columns</p>\n",
       "</div>"
      ],
      "text/plain": [
       "                                       Name_of_Listing         City  \\\n",
       "0      TKA 407: Fully Furnished Studio near Makati CBD       Makati   \n",
       "1      TKA 408: Fully Furnished Studio near Makati CBD       Makati   \n",
       "2    Spectacular View at Gramercy 69th 1BR Penthouse!⭐       Makati   \n",
       "3                    Backpackers Private Room @ Makati       Makati   \n",
       "4     Top Location! Makati Greenbelt Laureano Di Trevi       Makati   \n",
       "..                                                 ...          ...   \n",
       "293                BGC Designer Loft  - 2 BR Golf View       Taguig   \n",
       "295     Beautiful Studio apartment with full amenities       Makati   \n",
       "296  City View 1 BR Unit @ GRASS RES T4 WiFi & NETFLIX  Quezon City   \n",
       "298  Corner View Oasis @ Greenbelt. Fast Wifi, +Net...       Makati   \n",
       "299  Cozy Spacious BR Unit in Eastwood with WiFi & ...  Quezon City   \n",
       "\n",
       "    Type_of_Airbnb_Listing Beds_Available Price_in_USD Reviews_Overall_Rating  \\\n",
       "0             Private room   1 double bed           16                    4.8   \n",
       "1                Apartment   1 double bed           16                   4.76   \n",
       "2                Apartment          1 bed           91                   4.79   \n",
       "3             Private room   1 single bed           10                   4.94   \n",
       "4                Apartment    1 queen bed           18                    4.4   \n",
       "..                     ...            ...          ...                    ...   \n",
       "293                  Condo         2 beds           81                   4.64   \n",
       "295                  Condo          1 bed           30                    5.0   \n",
       "296                  Condo         2 beds           28                   4.88   \n",
       "298                  Condo          1 bed           48                      0   \n",
       "299                  Condo         2 beds           45                   4.91   \n",
       "\n",
       "    #_of_Reviews  \n",
       "0             49  \n",
       "1             45  \n",
       "2            213  \n",
       "3             16  \n",
       "4             10  \n",
       "..           ...  \n",
       "293           72  \n",
       "295            7  \n",
       "296           34  \n",
       "298            0  \n",
       "299           65  \n",
       "\n",
       "[254 rows x 7 columns]"
      ]
     },
     "execution_count": 34,
     "metadata": {},
     "output_type": "execute_result"
    }
   ],
   "source": [
    "dfUNIQUE"
   ]
  },
  {
   "cell_type": "code",
   "execution_count": 86,
   "id": "f56288a2-f508-456b-8f35-3d5431d3acee",
   "metadata": {},
   "outputs": [],
   "source": [
    "price_column = dfUNIQUE['Price_in_USD']\n",
    "rating_column = dfUNIQUE['Reviews_Overall_Rating']\n",
    "reviews_column = dfUNIQUE['#_of_Reviews']\n",
    "city_column = dfUNIQUE['#_of_Reviews']\n",
    "price_rating = dfUNIQUE[['Price_in_USD','Reviews_Overall_Rating']]"
   ]
  },
  {
   "cell_type": "code",
   "execution_count": 143,
   "id": "045d7039-dcaf-4de3-85b0-0beeb5147139",
   "metadata": {},
   "outputs": [
    {
     "data": {
      "text/plain": [
       "count    254.000000\n",
       "mean      33.625984\n",
       "std       18.530337\n",
       "min       10.000000\n",
       "25%       22.000000\n",
       "50%       29.000000\n",
       "75%       41.000000\n",
       "max      153.000000\n",
       "Name: Price_in_USD, dtype: float64"
      ]
     },
     "execution_count": 143,
     "metadata": {},
     "output_type": "execute_result"
    }
   ],
   "source": [
    "dfUNIQUE['Price_in_USD']=dfUNIQUE['Price_in_USD'].astype('int')\n",
    "dfUNIQUE.Price_in_USD.describe()"
   ]
  },
  {
   "cell_type": "code",
   "execution_count": 105,
   "id": "f209adb6-3cc7-41ec-bdc3-80441888bd08",
   "metadata": {},
   "outputs": [],
   "source": [
    "pricesIQR = dfUNIQUE[dfUNIQUE.Price_in_USD < 40]"
   ]
  },
  {
   "cell_type": "markdown",
   "id": "ccfd38df-a035-40e8-abb0-a5ba9186fad2",
   "metadata": {},
   "source": [
    "## Price per Night and Number of Reviews Scatter Plot"
   ]
  },
  {
   "cell_type": "code",
   "execution_count": 103,
   "id": "9c5b29d8-8200-42ac-85f6-a3bf0d479e7f",
   "metadata": {},
   "outputs": [
    {
     "data": {
      "application/vnd.plotly.v1+json": {
       "config": {
        "plotlyServerURL": "https://plot.ly"
       },
       "data": [
        {
         "hovertemplate": "Price_in_USD=%{x}<br>#_of_Reviews=%{y}<extra></extra>",
         "legendgroup": "",
         "marker": {
          "color": "#636efa",
          "symbol": "circle"
         },
         "mode": "markers",
         "name": "",
         "orientation": "v",
         "showlegend": false,
         "type": "scatter",
         "x": [
          16,
          16,
          91,
          10,
          18,
          16,
          58,
          22,
          31,
          51,
          19,
          16,
          22,
          16,
          40,
          27,
          24,
          17,
          26,
          55,
          25,
          16,
          16,
          10,
          16,
          23,
          40,
          20,
          22,
          35,
          35,
          16,
          26,
          25,
          35,
          16,
          25,
          38,
          27,
          27,
          32,
          38,
          16,
          16,
          10,
          20,
          27,
          31,
          27,
          34,
          43,
          38,
          44,
          29,
          28,
          19,
          25,
          10,
          16,
          36,
          16,
          39,
          27,
          16,
          17,
          28,
          32,
          26,
          19,
          25,
          29,
          18,
          36,
          26,
          42,
          35,
          68,
          16,
          10,
          16,
          16,
          31,
          27,
          44,
          16,
          30,
          10,
          52,
          17,
          14,
          28,
          16,
          20,
          63,
          50,
          26,
          23,
          36,
          31,
          14,
          16,
          22,
          38,
          48,
          37,
          25,
          38,
          54,
          29,
          41,
          26,
          27,
          23,
          43,
          59,
          62,
          20,
          45,
          33,
          49,
          40,
          49,
          45,
          22,
          32,
          18,
          34,
          51,
          42,
          32,
          18,
          35,
          72,
          20,
          38,
          42,
          43,
          71,
          24,
          38,
          75,
          45,
          35,
          45,
          30,
          42,
          28,
          61,
          27,
          21,
          22,
          48,
          22,
          31,
          32,
          25,
          20,
          41,
          33,
          37,
          29,
          20,
          40,
          36,
          42,
          41,
          25,
          79,
          36,
          38,
          153,
          62,
          49,
          24,
          43,
          80,
          32,
          23,
          16,
          53,
          38,
          29,
          59,
          16,
          67,
          16,
          46,
          32,
          27,
          42,
          28,
          22,
          20,
          45,
          16,
          11,
          59,
          33,
          23,
          26,
          93,
          63,
          24,
          26,
          48,
          24,
          35,
          16,
          17,
          46,
          44,
          33,
          33,
          51,
          30,
          44,
          36,
          37,
          23,
          16,
          24,
          27,
          38,
          12,
          24,
          27,
          26,
          40,
          130,
          40,
          22,
          44,
          33,
          26,
          26,
          105,
          16,
          29,
          37,
          27,
          47,
          20,
          46,
          29,
          39,
          26,
          42,
          30,
          13,
          81,
          30,
          28,
          48,
          45
         ],
         "xaxis": "x",
         "y": [
          49,
          45,
          213,
          16,
          10,
          18,
          8,
          286,
          240,
          215,
          5,
          8,
          11,
          17,
          158,
          31,
          147,
          25,
          73,
          44,
          106,
          21,
          15,
          12,
          10,
          227,
          154,
          29,
          41,
          67,
          62,
          7,
          7,
          43,
          35,
          31,
          13,
          9,
          53,
          15,
          3,
          29,
          25,
          5,
          32,
          15,
          48,
          141,
          69,
          7,
          40,
          5,
          95,
          46,
          91,
          24,
          16,
          23,
          15,
          186,
          0,
          0,
          21,
          51,
          0,
          115,
          104,
          9,
          124,
          45,
          3,
          61,
          462,
          39,
          113,
          96,
          11,
          10,
          29,
          7,
          5,
          95,
          53,
          29,
          13,
          6,
          21,
          41,
          267,
          23,
          31,
          6,
          5,
          24,
          96,
          59,
          184,
          16,
          17,
          6,
          29,
          65,
          124,
          3,
          65,
          149,
          0,
          4,
          48,
          3,
          320,
          22,
          0,
          0,
          21,
          82,
          44,
          24,
          143,
          26,
          38,
          31,
          9,
          17,
          196,
          44,
          6,
          33,
          6,
          6,
          40,
          28,
          108,
          12,
          5,
          13,
          11,
          394,
          146,
          22,
          0,
          22,
          61,
          23,
          43,
          45,
          27,
          13,
          105,
          229,
          0,
          86,
          32,
          124,
          60,
          79,
          13,
          9,
          43,
          42,
          3,
          7,
          135,
          151,
          78,
          0,
          324,
          36,
          12,
          307,
          28,
          9,
          3,
          181,
          14,
          164,
          14,
          0,
          30,
          66,
          17,
          40,
          0,
          52,
          545,
          14,
          0,
          6,
          4,
          34,
          30,
          30,
          24,
          12,
          32,
          22,
          85,
          4,
          8,
          15,
          273,
          0,
          8,
          27,
          20,
          22,
          0,
          17,
          18,
          22,
          14,
          9,
          160,
          75,
          11,
          4,
          52,
          108,
          107,
          38,
          9,
          61,
          8,
          0,
          10,
          18,
          9,
          187,
          8,
          7,
          48,
          19,
          32,
          276,
          9,
          196,
          0,
          186,
          6,
          0,
          6,
          9,
          3,
          21,
          98,
          13,
          6,
          6,
          20,
          72,
          7,
          34,
          0,
          65
         ],
         "yaxis": "y"
        },
        {
         "hovertemplate": "<b>OLS trendline</b><br>#_of_Reviews = 0.739992 * Price_in_USD + 30.8296<br>R<sup>2</sup>=0.029253<br><br>Price_in_USD=%{x}<br>#_of_Reviews=%{y} <b>(trend)</b><extra></extra>",
         "legendgroup": "",
         "marker": {
          "color": "#636efa",
          "symbol": "circle"
         },
         "mode": "lines",
         "name": "",
         "showlegend": false,
         "type": "scatter",
         "x": [
          10,
          10,
          10,
          10,
          10,
          10,
          11,
          12,
          13,
          14,
          14,
          16,
          16,
          16,
          16,
          16,
          16,
          16,
          16,
          16,
          16,
          16,
          16,
          16,
          16,
          16,
          16,
          16,
          16,
          16,
          16,
          16,
          16,
          16,
          16,
          16,
          16,
          16,
          16,
          17,
          17,
          17,
          17,
          18,
          18,
          18,
          18,
          19,
          19,
          19,
          20,
          20,
          20,
          20,
          20,
          20,
          20,
          20,
          20,
          21,
          22,
          22,
          22,
          22,
          22,
          22,
          22,
          22,
          22,
          23,
          23,
          23,
          23,
          23,
          23,
          24,
          24,
          24,
          24,
          24,
          24,
          24,
          25,
          25,
          25,
          25,
          25,
          25,
          25,
          25,
          26,
          26,
          26,
          26,
          26,
          26,
          26,
          26,
          26,
          26,
          26,
          26,
          27,
          27,
          27,
          27,
          27,
          27,
          27,
          27,
          27,
          27,
          27,
          27,
          27,
          28,
          28,
          28,
          28,
          28,
          28,
          29,
          29,
          29,
          29,
          29,
          29,
          29,
          30,
          30,
          30,
          30,
          30,
          31,
          31,
          31,
          31,
          31,
          32,
          32,
          32,
          32,
          32,
          32,
          32,
          33,
          33,
          33,
          33,
          33,
          33,
          34,
          34,
          35,
          35,
          35,
          35,
          35,
          35,
          35,
          36,
          36,
          36,
          36,
          36,
          36,
          37,
          37,
          37,
          37,
          38,
          38,
          38,
          38,
          38,
          38,
          38,
          38,
          38,
          38,
          39,
          39,
          40,
          40,
          40,
          40,
          40,
          40,
          41,
          41,
          41,
          42,
          42,
          42,
          42,
          42,
          42,
          42,
          43,
          43,
          43,
          43,
          44,
          44,
          44,
          44,
          44,
          45,
          45,
          45,
          45,
          45,
          45,
          46,
          46,
          46,
          47,
          48,
          48,
          48,
          48,
          49,
          49,
          49,
          50,
          51,
          51,
          51,
          52,
          53,
          54,
          55,
          58,
          59,
          59,
          59,
          61,
          62,
          62,
          63,
          63,
          67,
          68,
          71,
          72,
          75,
          79,
          80,
          81,
          91,
          93,
          105,
          130,
          153
         ],
         "xaxis": "x",
         "y": [
          38.22955224815386,
          38.22955224815386,
          38.22955224815386,
          38.22955224815386,
          38.22955224815386,
          38.22955224815386,
          38.969544537600434,
          39.70953682704702,
          40.44952911649359,
          41.18952140594018,
          41.18952140594018,
          42.669505984833336,
          42.669505984833336,
          42.669505984833336,
          42.669505984833336,
          42.669505984833336,
          42.669505984833336,
          42.669505984833336,
          42.669505984833336,
          42.669505984833336,
          42.669505984833336,
          42.669505984833336,
          42.669505984833336,
          42.669505984833336,
          42.669505984833336,
          42.669505984833336,
          42.669505984833336,
          42.669505984833336,
          42.669505984833336,
          42.669505984833336,
          42.669505984833336,
          42.669505984833336,
          42.669505984833336,
          42.669505984833336,
          42.669505984833336,
          42.669505984833336,
          42.669505984833336,
          42.669505984833336,
          42.669505984833336,
          43.40949827427991,
          43.40949827427991,
          43.40949827427991,
          43.40949827427991,
          44.149490563726495,
          44.149490563726495,
          44.149490563726495,
          44.149490563726495,
          44.88948285317308,
          44.88948285317308,
          44.88948285317308,
          45.629475142619654,
          45.629475142619654,
          45.629475142619654,
          45.629475142619654,
          45.629475142619654,
          45.629475142619654,
          45.629475142619654,
          45.629475142619654,
          45.629475142619654,
          46.36946743206624,
          47.10945972151282,
          47.10945972151282,
          47.10945972151282,
          47.10945972151282,
          47.10945972151282,
          47.10945972151282,
          47.10945972151282,
          47.10945972151282,
          47.10945972151282,
          47.849452010959396,
          47.849452010959396,
          47.849452010959396,
          47.849452010959396,
          47.849452010959396,
          47.849452010959396,
          48.58944430040597,
          48.58944430040597,
          48.58944430040597,
          48.58944430040597,
          48.58944430040597,
          48.58944430040597,
          48.58944430040597,
          49.329436589852556,
          49.329436589852556,
          49.329436589852556,
          49.329436589852556,
          49.329436589852556,
          49.329436589852556,
          49.329436589852556,
          49.329436589852556,
          50.06942887929914,
          50.06942887929914,
          50.06942887929914,
          50.06942887929914,
          50.06942887929914,
          50.06942887929914,
          50.06942887929914,
          50.06942887929914,
          50.06942887929914,
          50.06942887929914,
          50.06942887929914,
          50.06942887929914,
          50.809421168745715,
          50.809421168745715,
          50.809421168745715,
          50.809421168745715,
          50.809421168745715,
          50.809421168745715,
          50.809421168745715,
          50.809421168745715,
          50.809421168745715,
          50.809421168745715,
          50.809421168745715,
          50.809421168745715,
          50.809421168745715,
          51.5494134581923,
          51.5494134581923,
          51.5494134581923,
          51.5494134581923,
          51.5494134581923,
          51.5494134581923,
          52.28940574763888,
          52.28940574763888,
          52.28940574763888,
          52.28940574763888,
          52.28940574763888,
          52.28940574763888,
          52.28940574763888,
          53.02939803708546,
          53.02939803708546,
          53.02939803708546,
          53.02939803708546,
          53.02939803708546,
          53.76939032653203,
          53.76939032653203,
          53.76939032653203,
          53.76939032653203,
          53.76939032653203,
          54.509382615978616,
          54.509382615978616,
          54.509382615978616,
          54.509382615978616,
          54.509382615978616,
          54.509382615978616,
          54.509382615978616,
          55.2493749054252,
          55.2493749054252,
          55.2493749054252,
          55.2493749054252,
          55.2493749054252,
          55.2493749054252,
          55.989367194871775,
          55.989367194871775,
          56.72935948431835,
          56.72935948431835,
          56.72935948431835,
          56.72935948431835,
          56.72935948431835,
          56.72935948431835,
          56.72935948431835,
          57.469351773764934,
          57.469351773764934,
          57.469351773764934,
          57.469351773764934,
          57.469351773764934,
          57.469351773764934,
          58.20934406321152,
          58.20934406321152,
          58.20934406321152,
          58.20934406321152,
          58.949336352658094,
          58.949336352658094,
          58.949336352658094,
          58.949336352658094,
          58.949336352658094,
          58.949336352658094,
          58.949336352658094,
          58.949336352658094,
          58.949336352658094,
          58.949336352658094,
          59.68932864210468,
          59.68932864210468,
          60.42932093155126,
          60.42932093155126,
          60.42932093155126,
          60.42932093155126,
          60.42932093155126,
          60.42932093155126,
          61.169313220997836,
          61.169313220997836,
          61.169313220997836,
          61.90930551044441,
          61.90930551044441,
          61.90930551044441,
          61.90930551044441,
          61.90930551044441,
          61.90930551044441,
          61.90930551044441,
          62.649297799890995,
          62.649297799890995,
          62.649297799890995,
          62.649297799890995,
          63.38929008933758,
          63.38929008933758,
          63.38929008933758,
          63.38929008933758,
          63.38929008933758,
          64.12928237878415,
          64.12928237878415,
          64.12928237878415,
          64.12928237878415,
          64.12928237878415,
          64.12928237878415,
          64.86927466823073,
          64.86927466823073,
          64.86927466823073,
          65.6092669576773,
          66.3492592471239,
          66.3492592471239,
          66.3492592471239,
          66.3492592471239,
          67.08925153657049,
          67.08925153657049,
          67.08925153657049,
          67.82924382601706,
          68.56923611546364,
          68.56923611546364,
          68.56923611546364,
          69.30922840491021,
          70.04922069435679,
          70.78921298380337,
          71.52920527324996,
          73.7491821415897,
          74.48917443103628,
          74.48917443103628,
          74.48917443103628,
          75.96915900992943,
          76.70915129937602,
          76.70915129937602,
          77.4491435888226,
          77.4491435888226,
          80.40911274660891,
          81.14910503605549,
          83.36908190439524,
          84.10907419384182,
          86.32905106218155,
          89.28902021996788,
          90.02901250941446,
          90.76900479886103,
          98.16892769332685,
          99.64891227222,
          108.52881974557897,
          127.02862698174346,
          144.0484496390148
         ],
         "yaxis": "y"
        }
       ],
       "layout": {
        "autosize": true,
        "legend": {
         "tracegroupgap": 0
        },
        "margin": {
         "t": 60
        },
        "template": {
         "data": {
          "bar": [
           {
            "error_x": {
             "color": "#2a3f5f"
            },
            "error_y": {
             "color": "#2a3f5f"
            },
            "marker": {
             "line": {
              "color": "#E5ECF6",
              "width": 0.5
             },
             "pattern": {
              "fillmode": "overlay",
              "size": 10,
              "solidity": 0.2
             }
            },
            "type": "bar"
           }
          ],
          "barpolar": [
           {
            "marker": {
             "line": {
              "color": "#E5ECF6",
              "width": 0.5
             },
             "pattern": {
              "fillmode": "overlay",
              "size": 10,
              "solidity": 0.2
             }
            },
            "type": "barpolar"
           }
          ],
          "carpet": [
           {
            "aaxis": {
             "endlinecolor": "#2a3f5f",
             "gridcolor": "white",
             "linecolor": "white",
             "minorgridcolor": "white",
             "startlinecolor": "#2a3f5f"
            },
            "baxis": {
             "endlinecolor": "#2a3f5f",
             "gridcolor": "white",
             "linecolor": "white",
             "minorgridcolor": "white",
             "startlinecolor": "#2a3f5f"
            },
            "type": "carpet"
           }
          ],
          "choropleth": [
           {
            "colorbar": {
             "outlinewidth": 0,
             "ticks": ""
            },
            "type": "choropleth"
           }
          ],
          "contour": [
           {
            "colorbar": {
             "outlinewidth": 0,
             "ticks": ""
            },
            "colorscale": [
             [
              0,
              "#0d0887"
             ],
             [
              0.1111111111111111,
              "#46039f"
             ],
             [
              0.2222222222222222,
              "#7201a8"
             ],
             [
              0.3333333333333333,
              "#9c179e"
             ],
             [
              0.4444444444444444,
              "#bd3786"
             ],
             [
              0.5555555555555556,
              "#d8576b"
             ],
             [
              0.6666666666666666,
              "#ed7953"
             ],
             [
              0.7777777777777778,
              "#fb9f3a"
             ],
             [
              0.8888888888888888,
              "#fdca26"
             ],
             [
              1,
              "#f0f921"
             ]
            ],
            "type": "contour"
           }
          ],
          "contourcarpet": [
           {
            "colorbar": {
             "outlinewidth": 0,
             "ticks": ""
            },
            "type": "contourcarpet"
           }
          ],
          "heatmap": [
           {
            "colorbar": {
             "outlinewidth": 0,
             "ticks": ""
            },
            "colorscale": [
             [
              0,
              "#0d0887"
             ],
             [
              0.1111111111111111,
              "#46039f"
             ],
             [
              0.2222222222222222,
              "#7201a8"
             ],
             [
              0.3333333333333333,
              "#9c179e"
             ],
             [
              0.4444444444444444,
              "#bd3786"
             ],
             [
              0.5555555555555556,
              "#d8576b"
             ],
             [
              0.6666666666666666,
              "#ed7953"
             ],
             [
              0.7777777777777778,
              "#fb9f3a"
             ],
             [
              0.8888888888888888,
              "#fdca26"
             ],
             [
              1,
              "#f0f921"
             ]
            ],
            "type": "heatmap"
           }
          ],
          "heatmapgl": [
           {
            "colorbar": {
             "outlinewidth": 0,
             "ticks": ""
            },
            "colorscale": [
             [
              0,
              "#0d0887"
             ],
             [
              0.1111111111111111,
              "#46039f"
             ],
             [
              0.2222222222222222,
              "#7201a8"
             ],
             [
              0.3333333333333333,
              "#9c179e"
             ],
             [
              0.4444444444444444,
              "#bd3786"
             ],
             [
              0.5555555555555556,
              "#d8576b"
             ],
             [
              0.6666666666666666,
              "#ed7953"
             ],
             [
              0.7777777777777778,
              "#fb9f3a"
             ],
             [
              0.8888888888888888,
              "#fdca26"
             ],
             [
              1,
              "#f0f921"
             ]
            ],
            "type": "heatmapgl"
           }
          ],
          "histogram": [
           {
            "marker": {
             "pattern": {
              "fillmode": "overlay",
              "size": 10,
              "solidity": 0.2
             }
            },
            "type": "histogram"
           }
          ],
          "histogram2d": [
           {
            "colorbar": {
             "outlinewidth": 0,
             "ticks": ""
            },
            "colorscale": [
             [
              0,
              "#0d0887"
             ],
             [
              0.1111111111111111,
              "#46039f"
             ],
             [
              0.2222222222222222,
              "#7201a8"
             ],
             [
              0.3333333333333333,
              "#9c179e"
             ],
             [
              0.4444444444444444,
              "#bd3786"
             ],
             [
              0.5555555555555556,
              "#d8576b"
             ],
             [
              0.6666666666666666,
              "#ed7953"
             ],
             [
              0.7777777777777778,
              "#fb9f3a"
             ],
             [
              0.8888888888888888,
              "#fdca26"
             ],
             [
              1,
              "#f0f921"
             ]
            ],
            "type": "histogram2d"
           }
          ],
          "histogram2dcontour": [
           {
            "colorbar": {
             "outlinewidth": 0,
             "ticks": ""
            },
            "colorscale": [
             [
              0,
              "#0d0887"
             ],
             [
              0.1111111111111111,
              "#46039f"
             ],
             [
              0.2222222222222222,
              "#7201a8"
             ],
             [
              0.3333333333333333,
              "#9c179e"
             ],
             [
              0.4444444444444444,
              "#bd3786"
             ],
             [
              0.5555555555555556,
              "#d8576b"
             ],
             [
              0.6666666666666666,
              "#ed7953"
             ],
             [
              0.7777777777777778,
              "#fb9f3a"
             ],
             [
              0.8888888888888888,
              "#fdca26"
             ],
             [
              1,
              "#f0f921"
             ]
            ],
            "type": "histogram2dcontour"
           }
          ],
          "mesh3d": [
           {
            "colorbar": {
             "outlinewidth": 0,
             "ticks": ""
            },
            "type": "mesh3d"
           }
          ],
          "parcoords": [
           {
            "line": {
             "colorbar": {
              "outlinewidth": 0,
              "ticks": ""
             }
            },
            "type": "parcoords"
           }
          ],
          "pie": [
           {
            "automargin": true,
            "type": "pie"
           }
          ],
          "scatter": [
           {
            "marker": {
             "colorbar": {
              "outlinewidth": 0,
              "ticks": ""
             }
            },
            "type": "scatter"
           }
          ],
          "scatter3d": [
           {
            "line": {
             "colorbar": {
              "outlinewidth": 0,
              "ticks": ""
             }
            },
            "marker": {
             "colorbar": {
              "outlinewidth": 0,
              "ticks": ""
             }
            },
            "type": "scatter3d"
           }
          ],
          "scattercarpet": [
           {
            "marker": {
             "colorbar": {
              "outlinewidth": 0,
              "ticks": ""
             }
            },
            "type": "scattercarpet"
           }
          ],
          "scattergeo": [
           {
            "marker": {
             "colorbar": {
              "outlinewidth": 0,
              "ticks": ""
             }
            },
            "type": "scattergeo"
           }
          ],
          "scattergl": [
           {
            "marker": {
             "colorbar": {
              "outlinewidth": 0,
              "ticks": ""
             }
            },
            "type": "scattergl"
           }
          ],
          "scattermapbox": [
           {
            "marker": {
             "colorbar": {
              "outlinewidth": 0,
              "ticks": ""
             }
            },
            "type": "scattermapbox"
           }
          ],
          "scatterpolar": [
           {
            "marker": {
             "colorbar": {
              "outlinewidth": 0,
              "ticks": ""
             }
            },
            "type": "scatterpolar"
           }
          ],
          "scatterpolargl": [
           {
            "marker": {
             "colorbar": {
              "outlinewidth": 0,
              "ticks": ""
             }
            },
            "type": "scatterpolargl"
           }
          ],
          "scatterternary": [
           {
            "marker": {
             "colorbar": {
              "outlinewidth": 0,
              "ticks": ""
             }
            },
            "type": "scatterternary"
           }
          ],
          "surface": [
           {
            "colorbar": {
             "outlinewidth": 0,
             "ticks": ""
            },
            "colorscale": [
             [
              0,
              "#0d0887"
             ],
             [
              0.1111111111111111,
              "#46039f"
             ],
             [
              0.2222222222222222,
              "#7201a8"
             ],
             [
              0.3333333333333333,
              "#9c179e"
             ],
             [
              0.4444444444444444,
              "#bd3786"
             ],
             [
              0.5555555555555556,
              "#d8576b"
             ],
             [
              0.6666666666666666,
              "#ed7953"
             ],
             [
              0.7777777777777778,
              "#fb9f3a"
             ],
             [
              0.8888888888888888,
              "#fdca26"
             ],
             [
              1,
              "#f0f921"
             ]
            ],
            "type": "surface"
           }
          ],
          "table": [
           {
            "cells": {
             "fill": {
              "color": "#EBF0F8"
             },
             "line": {
              "color": "white"
             }
            },
            "header": {
             "fill": {
              "color": "#C8D4E3"
             },
             "line": {
              "color": "white"
             }
            },
            "type": "table"
           }
          ]
         },
         "layout": {
          "annotationdefaults": {
           "arrowcolor": "#2a3f5f",
           "arrowhead": 0,
           "arrowwidth": 1
          },
          "autotypenumbers": "strict",
          "coloraxis": {
           "colorbar": {
            "outlinewidth": 0,
            "ticks": ""
           }
          },
          "colorscale": {
           "diverging": [
            [
             0,
             "#8e0152"
            ],
            [
             0.1,
             "#c51b7d"
            ],
            [
             0.2,
             "#de77ae"
            ],
            [
             0.3,
             "#f1b6da"
            ],
            [
             0.4,
             "#fde0ef"
            ],
            [
             0.5,
             "#f7f7f7"
            ],
            [
             0.6,
             "#e6f5d0"
            ],
            [
             0.7,
             "#b8e186"
            ],
            [
             0.8,
             "#7fbc41"
            ],
            [
             0.9,
             "#4d9221"
            ],
            [
             1,
             "#276419"
            ]
           ],
           "sequential": [
            [
             0,
             "#0d0887"
            ],
            [
             0.1111111111111111,
             "#46039f"
            ],
            [
             0.2222222222222222,
             "#7201a8"
            ],
            [
             0.3333333333333333,
             "#9c179e"
            ],
            [
             0.4444444444444444,
             "#bd3786"
            ],
            [
             0.5555555555555556,
             "#d8576b"
            ],
            [
             0.6666666666666666,
             "#ed7953"
            ],
            [
             0.7777777777777778,
             "#fb9f3a"
            ],
            [
             0.8888888888888888,
             "#fdca26"
            ],
            [
             1,
             "#f0f921"
            ]
           ],
           "sequentialminus": [
            [
             0,
             "#0d0887"
            ],
            [
             0.1111111111111111,
             "#46039f"
            ],
            [
             0.2222222222222222,
             "#7201a8"
            ],
            [
             0.3333333333333333,
             "#9c179e"
            ],
            [
             0.4444444444444444,
             "#bd3786"
            ],
            [
             0.5555555555555556,
             "#d8576b"
            ],
            [
             0.6666666666666666,
             "#ed7953"
            ],
            [
             0.7777777777777778,
             "#fb9f3a"
            ],
            [
             0.8888888888888888,
             "#fdca26"
            ],
            [
             1,
             "#f0f921"
            ]
           ]
          },
          "colorway": [
           "#636efa",
           "#EF553B",
           "#00cc96",
           "#ab63fa",
           "#FFA15A",
           "#19d3f3",
           "#FF6692",
           "#B6E880",
           "#FF97FF",
           "#FECB52"
          ],
          "font": {
           "color": "#2a3f5f"
          },
          "geo": {
           "bgcolor": "white",
           "lakecolor": "white",
           "landcolor": "#E5ECF6",
           "showlakes": true,
           "showland": true,
           "subunitcolor": "white"
          },
          "hoverlabel": {
           "align": "left"
          },
          "hovermode": "closest",
          "mapbox": {
           "style": "light"
          },
          "paper_bgcolor": "white",
          "plot_bgcolor": "#E5ECF6",
          "polar": {
           "angularaxis": {
            "gridcolor": "white",
            "linecolor": "white",
            "ticks": ""
           },
           "bgcolor": "#E5ECF6",
           "radialaxis": {
            "gridcolor": "white",
            "linecolor": "white",
            "ticks": ""
           }
          },
          "scene": {
           "xaxis": {
            "backgroundcolor": "#E5ECF6",
            "gridcolor": "white",
            "gridwidth": 2,
            "linecolor": "white",
            "showbackground": true,
            "ticks": "",
            "zerolinecolor": "white"
           },
           "yaxis": {
            "backgroundcolor": "#E5ECF6",
            "gridcolor": "white",
            "gridwidth": 2,
            "linecolor": "white",
            "showbackground": true,
            "ticks": "",
            "zerolinecolor": "white"
           },
           "zaxis": {
            "backgroundcolor": "#E5ECF6",
            "gridcolor": "white",
            "gridwidth": 2,
            "linecolor": "white",
            "showbackground": true,
            "ticks": "",
            "zerolinecolor": "white"
           }
          },
          "shapedefaults": {
           "line": {
            "color": "#2a3f5f"
           }
          },
          "ternary": {
           "aaxis": {
            "gridcolor": "white",
            "linecolor": "white",
            "ticks": ""
           },
           "baxis": {
            "gridcolor": "white",
            "linecolor": "white",
            "ticks": ""
           },
           "bgcolor": "#E5ECF6",
           "caxis": {
            "gridcolor": "white",
            "linecolor": "white",
            "ticks": ""
           }
          },
          "title": {
           "x": 0.05
          },
          "xaxis": {
           "automargin": true,
           "gridcolor": "white",
           "linecolor": "white",
           "ticks": "",
           "title": {
            "standoff": 15
           },
           "zerolinecolor": "white",
           "zerolinewidth": 2
          },
          "yaxis": {
           "automargin": true,
           "gridcolor": "white",
           "linecolor": "white",
           "ticks": "",
           "title": {
            "standoff": 15
           },
           "zerolinecolor": "white",
           "zerolinewidth": 2
          }
         }
        },
        "title": {
         "text": "Price per Night (＄) and Number of Reviews"
        },
        "xaxis": {
         "anchor": "y",
         "autorange": true,
         "domain": [
          0,
          1
         ],
         "range": [
          1.3333333333333321,
          161.66666666666666
         ],
         "title": {
          "text": "Price per Night (＄)"
         },
         "type": "linear"
        },
        "yaxis": {
         "anchor": "x",
         "autorange": true,
         "domain": [
          0,
          1
         ],
         "range": [
          -42.1981627296588,
          587.1981627296587
         ],
         "title": {
          "text": "Number of Reviews"
         },
         "type": "linear"
        }
       }
      },
      "image/png": "[encoded data removed]",
      "text/html": [
       "<div>                            <div id=\"3cd47d70-30d6-4ddb-8afe-8be796b9229b\" class=\"plotly-graph-div\" style=\"height:525px; width:100%;\"></div>            <script type=\"text/javascript\">                require([\"plotly\"], function(Plotly) {                    window.PLOTLYENV=window.PLOTLYENV || {};                                    if (document.getElementById(\"3cd47d70-30d6-4ddb-8afe-8be796b9229b\")) {                    Plotly.newPlot(                        \"3cd47d70-30d6-4ddb-8afe-8be796b9229b\",                        [{\"hovertemplate\":\"Price_in_USD=%{x}<br>#_of_Reviews=%{y}<extra></extra>\",\"legendgroup\":\"\",\"marker\":{\"color\":\"#636efa\",\"symbol\":\"circle\"},\"mode\":\"markers\",\"name\":\"\",\"orientation\":\"v\",\"showlegend\":false,\"x\":[16,16,91,10,18,16,58,22,31,51,19,16,22,16,40,27,24,17,26,55,25,16,16,10,16,23,40,20,22,35,35,16,26,25,35,16,25,38,27,27,32,38,16,16,10,20,27,31,27,34,43,38,44,29,28,19,25,10,16,36,16,39,27,16,17,28,32,26,19,25,29,18,36,26,42,35,68,16,10,16,16,31,27,44,16,30,10,52,17,14,28,16,20,63,50,26,23,36,31,14,16,22,38,48,37,25,38,54,29,41,26,27,23,43,59,62,20,45,33,49,40,49,45,22,32,18,34,51,42,32,18,35,72,20,38,42,43,71,24,38,75,45,35,45,30,42,28,61,27,21,22,48,22,31,32,25,20,41,33,37,29,20,40,36,42,41,25,79,36,38,153,62,49,24,43,80,32,23,16,53,38,29,59,16,67,16,46,32,27,42,28,22,20,45,16,11,59,33,23,26,93,63,24,26,48,24,35,16,17,46,44,33,33,51,30,44,36,37,23,16,24,27,38,12,24,27,26,40,130,40,22,44,33,26,26,105,16,29,37,27,47,20,46,29,39,26,42,30,13,81,30,28,48,45],\"xaxis\":\"x\",\"y\":[49,45,213,16,10,18,8,286,240,215,5,8,11,17,158,31,147,25,73,44,106,21,15,12,10,227,154,29,41,67,62,7,7,43,35,31,13,9,53,15,3,29,25,5,32,15,48,141,69,7,40,5,95,46,91,24,16,23,15,186,0,0,21,51,0,115,104,9,124,45,3,61,462,39,113,96,11,10,29,7,5,95,53,29,13,6,21,41,267,23,31,6,5,24,96,59,184,16,17,6,29,65,124,3,65,149,0,4,48,3,320,22,0,0,21,82,44,24,143,26,38,31,9,17,196,44,6,33,6,6,40,28,108,12,5,13,11,394,146,22,0,22,61,23,43,45,27,13,105,229,0,86,32,124,60,79,13,9,43,42,3,7,135,151,78,0,324,36,12,307,28,9,3,181,14,164,14,0,30,66,17,40,0,52,545,14,0,6,4,34,30,30,24,12,32,22,85,4,8,15,273,0,8,27,20,22,0,17,18,22,14,9,160,75,11,4,52,108,107,38,9,61,8,0,10,18,9,187,8,7,48,19,32,276,9,196,0,186,6,0,6,9,3,21,98,13,6,6,20,72,7,34,0,65],\"yaxis\":\"y\",\"type\":\"scatter\"},{\"hovertemplate\":\"<b>OLS trendline</b><br>#_of_Reviews = 0.739992 * Price_in_USD + 30.8296<br>R<sup>2</sup>=0.029253<br><br>Price_in_USD=%{x}<br>#_of_Reviews=%{y} <b>(trend)</b><extra></extra>\",\"legendgroup\":\"\",\"marker\":{\"color\":\"#636efa\",\"symbol\":\"circle\"},\"mode\":\"lines\",\"name\":\"\",\"showlegend\":false,\"x\":[10,10,10,10,10,10,11,12,13,14,14,16,16,16,16,16,16,16,16,16,16,16,16,16,16,16,16,16,16,16,16,16,16,16,16,16,16,16,16,17,17,17,17,18,18,18,18,19,19,19,20,20,20,20,20,20,20,20,20,21,22,22,22,22,22,22,22,22,22,23,23,23,23,23,23,24,24,24,24,24,24,24,25,25,25,25,25,25,25,25,26,26,26,26,26,26,26,26,26,26,26,26,27,27,27,27,27,27,27,27,27,27,27,27,27,28,28,28,28,28,28,29,29,29,29,29,29,29,30,30,30,30,30,31,31,31,31,31,32,32,32,32,32,32,32,33,33,33,33,33,33,34,34,35,35,35,35,35,35,35,36,36,36,36,36,36,37,37,37,37,38,38,38,38,38,38,38,38,38,38,39,39,40,40,40,40,40,40,41,41,41,42,42,42,42,42,42,42,43,43,43,43,44,44,44,44,44,45,45,45,45,45,45,46,46,46,47,48,48,48,48,49,49,49,50,51,51,51,52,53,54,55,58,59,59,59,61,62,62,63,63,67,68,71,72,75,79,80,81,91,93,105,130,153],\"xaxis\":\"x\",\"y\":[38.22955224815386,38.22955224815386,38.22955224815386,38.22955224815386,38.22955224815386,38.22955224815386,38.969544537600434,39.70953682704702,40.44952911649359,41.18952140594018,41.18952140594018,42.669505984833336,42.669505984833336,42.669505984833336,42.669505984833336,42.669505984833336,42.669505984833336,42.669505984833336,42.669505984833336,42.669505984833336,42.669505984833336,42.669505984833336,42.669505984833336,42.669505984833336,42.669505984833336,42.669505984833336,42.669505984833336,42.669505984833336,42.669505984833336,42.669505984833336,42.669505984833336,42.669505984833336,42.669505984833336,42.669505984833336,42.669505984833336,42.669505984833336,42.669505984833336,42.669505984833336,42.669505984833336,43.40949827427991,43.40949827427991,43.40949827427991,43.40949827427991,44.149490563726495,44.149490563726495,44.149490563726495,44.149490563726495,44.88948285317308,44.88948285317308,44.88948285317308,45.629475142619654,45.629475142619654,45.629475142619654,45.629475142619654,45.629475142619654,45.629475142619654,45.629475142619654,45.629475142619654,45.629475142619654,46.36946743206624,47.10945972151282,47.10945972151282,47.10945972151282,47.10945972151282,47.10945972151282,47.10945972151282,47.10945972151282,47.10945972151282,47.10945972151282,47.849452010959396,47.849452010959396,47.849452010959396,47.849452010959396,47.849452010959396,47.849452010959396,48.58944430040597,48.58944430040597,48.58944430040597,48.58944430040597,48.58944430040597,48.58944430040597,48.58944430040597,49.329436589852556,49.329436589852556,49.329436589852556,49.329436589852556,49.329436589852556,49.329436589852556,49.329436589852556,49.329436589852556,50.06942887929914,50.06942887929914,50.06942887929914,50.06942887929914,50.06942887929914,50.06942887929914,50.06942887929914,50.06942887929914,50.06942887929914,50.06942887929914,50.06942887929914,50.06942887929914,50.809421168745715,50.809421168745715,50.809421168745715,50.809421168745715,50.809421168745715,50.809421168745715,50.809421168745715,50.809421168745715,50.809421168745715,50.809421168745715,50.809421168745715,50.809421168745715,50.809421168745715,51.5494134581923,51.5494134581923,51.5494134581923,51.5494134581923,51.5494134581923,51.5494134581923,52.28940574763888,52.28940574763888,52.28940574763888,52.28940574763888,52.28940574763888,52.28940574763888,52.28940574763888,53.02939803708546,53.02939803708546,53.02939803708546,53.02939803708546,53.02939803708546,53.76939032653203,53.76939032653203,53.76939032653203,53.76939032653203,53.76939032653203,54.509382615978616,54.509382615978616,54.509382615978616,54.509382615978616,54.509382615978616,54.509382615978616,54.509382615978616,55.2493749054252,55.2493749054252,55.2493749054252,55.2493749054252,55.2493749054252,55.2493749054252,55.989367194871775,55.989367194871775,56.72935948431835,56.72935948431835,56.72935948431835,56.72935948431835,56.72935948431835,56.72935948431835,56.72935948431835,57.469351773764934,57.469351773764934,57.469351773764934,57.469351773764934,57.469351773764934,57.469351773764934,58.20934406321152,58.20934406321152,58.20934406321152,58.20934406321152,58.949336352658094,58.949336352658094,58.949336352658094,58.949336352658094,58.949336352658094,58.949336352658094,58.949336352658094,58.949336352658094,58.949336352658094,58.949336352658094,59.68932864210468,59.68932864210468,60.42932093155126,60.42932093155126,60.42932093155126,60.42932093155126,60.42932093155126,60.42932093155126,61.169313220997836,61.169313220997836,61.169313220997836,61.90930551044441,61.90930551044441,61.90930551044441,61.90930551044441,61.90930551044441,61.90930551044441,61.90930551044441,62.649297799890995,62.649297799890995,62.649297799890995,62.649297799890995,63.38929008933758,63.38929008933758,63.38929008933758,63.38929008933758,63.38929008933758,64.12928237878415,64.12928237878415,64.12928237878415,64.12928237878415,64.12928237878415,64.12928237878415,64.86927466823073,64.86927466823073,64.86927466823073,65.6092669576773,66.3492592471239,66.3492592471239,66.3492592471239,66.3492592471239,67.08925153657049,67.08925153657049,67.08925153657049,67.82924382601706,68.56923611546364,68.56923611546364,68.56923611546364,69.30922840491021,70.04922069435679,70.78921298380337,71.52920527324996,73.7491821415897,74.48917443103628,74.48917443103628,74.48917443103628,75.96915900992943,76.70915129937602,76.70915129937602,77.4491435888226,77.4491435888226,80.40911274660891,81.14910503605549,83.36908190439524,84.10907419384182,86.32905106218155,89.28902021996788,90.02901250941446,90.76900479886103,98.16892769332685,99.64891227222,108.52881974557897,127.02862698174346,144.0484496390148],\"yaxis\":\"y\",\"type\":\"scatter\"}],                        {\"template\":{\"data\":{\"bar\":[{\"error_x\":{\"color\":\"#2a3f5f\"},\"error_y\":{\"color\":\"#2a3f5f\"},\"marker\":{\"line\":{\"color\":\"#E5ECF6\",\"width\":0.5},\"pattern\":{\"fillmode\":\"overlay\",\"size\":10,\"solidity\":0.2}},\"type\":\"bar\"}],\"barpolar\":[{\"marker\":{\"line\":{\"color\":\"#E5ECF6\",\"width\":0.5},\"pattern\":{\"fillmode\":\"overlay\",\"size\":10,\"solidity\":0.2}},\"type\":\"barpolar\"}],\"carpet\":[{\"aaxis\":{\"endlinecolor\":\"#2a3f5f\",\"gridcolor\":\"white\",\"linecolor\":\"white\",\"minorgridcolor\":\"white\",\"startlinecolor\":\"#2a3f5f\"},\"baxis\":{\"endlinecolor\":\"#2a3f5f\",\"gridcolor\":\"white\",\"linecolor\":\"white\",\"minorgridcolor\":\"white\",\"startlinecolor\":\"#2a3f5f\"},\"type\":\"carpet\"}],\"choropleth\":[{\"colorbar\":{\"outlinewidth\":0,\"ticks\":\"\"},\"type\":\"choropleth\"}],\"contour\":[{\"colorbar\":{\"outlinewidth\":0,\"ticks\":\"\"},\"colorscale\":[[0.0,\"#0d0887\"],[0.1111111111111111,\"#46039f\"],[0.2222222222222222,\"#7201a8\"],[0.3333333333333333,\"#9c179e\"],[0.4444444444444444,\"#bd3786\"],[0.5555555555555556,\"#d8576b\"],[0.6666666666666666,\"#ed7953\"],[0.7777777777777778,\"#fb9f3a\"],[0.8888888888888888,\"#fdca26\"],[1.0,\"#f0f921\"]],\"type\":\"contour\"}],\"contourcarpet\":[{\"colorbar\":{\"outlinewidth\":0,\"ticks\":\"\"},\"type\":\"contourcarpet\"}],\"heatmap\":[{\"colorbar\":{\"outlinewidth\":0,\"ticks\":\"\"},\"colorscale\":[[0.0,\"#0d0887\"],[0.1111111111111111,\"#46039f\"],[0.2222222222222222,\"#7201a8\"],[0.3333333333333333,\"#9c179e\"],[0.4444444444444444,\"#bd3786\"],[0.5555555555555556,\"#d8576b\"],[0.6666666666666666,\"#ed7953\"],[0.7777777777777778,\"#fb9f3a\"],[0.8888888888888888,\"#fdca26\"],[1.0,\"#f0f921\"]],\"type\":\"heatmap\"}],\"heatmapgl\":[{\"colorbar\":{\"outlinewidth\":0,\"ticks\":\"\"},\"colorscale\":[[0.0,\"#0d0887\"],[0.1111111111111111,\"#46039f\"],[0.2222222222222222,\"#7201a8\"],[0.3333333333333333,\"#9c179e\"],[0.4444444444444444,\"#bd3786\"],[0.5555555555555556,\"#d8576b\"],[0.6666666666666666,\"#ed7953\"],[0.7777777777777778,\"#fb9f3a\"],[0.8888888888888888,\"#fdca26\"],[1.0,\"#f0f921\"]],\"type\":\"heatmapgl\"}],\"histogram\":[{\"marker\":{\"pattern\":{\"fillmode\":\"overlay\",\"size\":10,\"solidity\":0.2}},\"type\":\"histogram\"}],\"histogram2d\":[{\"colorbar\":{\"outlinewidth\":0,\"ticks\":\"\"},\"colorscale\":[[0.0,\"#0d0887\"],[0.1111111111111111,\"#46039f\"],[0.2222222222222222,\"#7201a8\"],[0.3333333333333333,\"#9c179e\"],[0.4444444444444444,\"#bd3786\"],[0.5555555555555556,\"#d8576b\"],[0.6666666666666666,\"#ed7953\"],[0.7777777777777778,\"#fb9f3a\"],[0.8888888888888888,\"#fdca26\"],[1.0,\"#f0f921\"]],\"type\":\"histogram2d\"}],\"histogram2dcontour\":[{\"colorbar\":{\"outlinewidth\":0,\"ticks\":\"\"},\"colorscale\":[[0.0,\"#0d0887\"],[0.1111111111111111,\"#46039f\"],[0.2222222222222222,\"#7201a8\"],[0.3333333333333333,\"#9c179e\"],[0.4444444444444444,\"#bd3786\"],[0.5555555555555556,\"#d8576b\"],[0.6666666666666666,\"#ed7953\"],[0.7777777777777778,\"#fb9f3a\"],[0.8888888888888888,\"#fdca26\"],[1.0,\"#f0f921\"]],\"type\":\"histogram2dcontour\"}],\"mesh3d\":[{\"colorbar\":{\"outlinewidth\":0,\"ticks\":\"\"},\"type\":\"mesh3d\"}],\"parcoords\":[{\"line\":{\"colorbar\":{\"outlinewidth\":0,\"ticks\":\"\"}},\"type\":\"parcoords\"}],\"pie\":[{\"automargin\":true,\"type\":\"pie\"}],\"scatter\":[{\"marker\":{\"colorbar\":{\"outlinewidth\":0,\"ticks\":\"\"}},\"type\":\"scatter\"}],\"scatter3d\":[{\"line\":{\"colorbar\":{\"outlinewidth\":0,\"ticks\":\"\"}},\"marker\":{\"colorbar\":{\"outlinewidth\":0,\"ticks\":\"\"}},\"type\":\"scatter3d\"}],\"scattercarpet\":[{\"marker\":{\"colorbar\":{\"outlinewidth\":0,\"ticks\":\"\"}},\"type\":\"scattercarpet\"}],\"scattergeo\":[{\"marker\":{\"colorbar\":{\"outlinewidth\":0,\"ticks\":\"\"}},\"type\":\"scattergeo\"}],\"scattergl\":[{\"marker\":{\"colorbar\":{\"outlinewidth\":0,\"ticks\":\"\"}},\"type\":\"scattergl\"}],\"scattermapbox\":[{\"marker\":{\"colorbar\":{\"outlinewidth\":0,\"ticks\":\"\"}},\"type\":\"scattermapbox\"}],\"scatterpolar\":[{\"marker\":{\"colorbar\":{\"outlinewidth\":0,\"ticks\":\"\"}},\"type\":\"scatterpolar\"}],\"scatterpolargl\":[{\"marker\":{\"colorbar\":{\"outlinewidth\":0,\"ticks\":\"\"}},\"type\":\"scatterpolargl\"}],\"scatterternary\":[{\"marker\":{\"colorbar\":{\"outlinewidth\":0,\"ticks\":\"\"}},\"type\":\"scatterternary\"}],\"surface\":[{\"colorbar\":{\"outlinewidth\":0,\"ticks\":\"\"},\"colorscale\":[[0.0,\"#0d0887\"],[0.1111111111111111,\"#46039f\"],[0.2222222222222222,\"#7201a8\"],[0.3333333333333333,\"#9c179e\"],[0.4444444444444444,\"#bd3786\"],[0.5555555555555556,\"#d8576b\"],[0.6666666666666666,\"#ed7953\"],[0.7777777777777778,\"#fb9f3a\"],[0.8888888888888888,\"#fdca26\"],[1.0,\"#f0f921\"]],\"type\":\"surface\"}],\"table\":[{\"cells\":{\"fill\":{\"color\":\"#EBF0F8\"},\"line\":{\"color\":\"white\"}},\"header\":{\"fill\":{\"color\":\"#C8D4E3\"},\"line\":{\"color\":\"white\"}},\"type\":\"table\"}]},\"layout\":{\"annotationdefaults\":{\"arrowcolor\":\"#2a3f5f\",\"arrowhead\":0,\"arrowwidth\":1},\"autotypenumbers\":\"strict\",\"coloraxis\":{\"colorbar\":{\"outlinewidth\":0,\"ticks\":\"\"}},\"colorscale\":{\"diverging\":[[0,\"#8e0152\"],[0.1,\"#c51b7d\"],[0.2,\"#de77ae\"],[0.3,\"#f1b6da\"],[0.4,\"#fde0ef\"],[0.5,\"#f7f7f7\"],[0.6,\"#e6f5d0\"],[0.7,\"#b8e186\"],[0.8,\"#7fbc41\"],[0.9,\"#4d9221\"],[1,\"#276419\"]],\"sequential\":[[0.0,\"#0d0887\"],[0.1111111111111111,\"#46039f\"],[0.2222222222222222,\"#7201a8\"],[0.3333333333333333,\"#9c179e\"],[0.4444444444444444,\"#bd3786\"],[0.5555555555555556,\"#d8576b\"],[0.6666666666666666,\"#ed7953\"],[0.7777777777777778,\"#fb9f3a\"],[0.8888888888888888,\"#fdca26\"],[1.0,\"#f0f921\"]],\"sequentialminus\":[[0.0,\"#0d0887\"],[0.1111111111111111,\"#46039f\"],[0.2222222222222222,\"#7201a8\"],[0.3333333333333333,\"#9c179e\"],[0.4444444444444444,\"#bd3786\"],[0.5555555555555556,\"#d8576b\"],[0.6666666666666666,\"#ed7953\"],[0.7777777777777778,\"#fb9f3a\"],[0.8888888888888888,\"#fdca26\"],[1.0,\"#f0f921\"]]},\"colorway\":[\"#636efa\",\"#EF553B\",\"#00cc96\",\"#ab63fa\",\"#FFA15A\",\"#19d3f3\",\"#FF6692\",\"#B6E880\",\"#FF97FF\",\"#FECB52\"],\"font\":{\"color\":\"#2a3f5f\"},\"geo\":{\"bgcolor\":\"white\",\"lakecolor\":\"white\",\"landcolor\":\"#E5ECF6\",\"showlakes\":true,\"showland\":true,\"subunitcolor\":\"white\"},\"hoverlabel\":{\"align\":\"left\"},\"hovermode\":\"closest\",\"mapbox\":{\"style\":\"light\"},\"paper_bgcolor\":\"white\",\"plot_bgcolor\":\"#E5ECF6\",\"polar\":{\"angularaxis\":{\"gridcolor\":\"white\",\"linecolor\":\"white\",\"ticks\":\"\"},\"bgcolor\":\"#E5ECF6\",\"radialaxis\":{\"gridcolor\":\"white\",\"linecolor\":\"white\",\"ticks\":\"\"}},\"scene\":{\"xaxis\":{\"backgroundcolor\":\"#E5ECF6\",\"gridcolor\":\"white\",\"gridwidth\":2,\"linecolor\":\"white\",\"showbackground\":true,\"ticks\":\"\",\"zerolinecolor\":\"white\"},\"yaxis\":{\"backgroundcolor\":\"#E5ECF6\",\"gridcolor\":\"white\",\"gridwidth\":2,\"linecolor\":\"white\",\"showbackground\":true,\"ticks\":\"\",\"zerolinecolor\":\"white\"},\"zaxis\":{\"backgroundcolor\":\"#E5ECF6\",\"gridcolor\":\"white\",\"gridwidth\":2,\"linecolor\":\"white\",\"showbackground\":true,\"ticks\":\"\",\"zerolinecolor\":\"white\"}},\"shapedefaults\":{\"line\":{\"color\":\"#2a3f5f\"}},\"ternary\":{\"aaxis\":{\"gridcolor\":\"white\",\"linecolor\":\"white\",\"ticks\":\"\"},\"baxis\":{\"gridcolor\":\"white\",\"linecolor\":\"white\",\"ticks\":\"\"},\"bgcolor\":\"#E5ECF6\",\"caxis\":{\"gridcolor\":\"white\",\"linecolor\":\"white\",\"ticks\":\"\"}},\"title\":{\"x\":0.05},\"xaxis\":{\"automargin\":true,\"gridcolor\":\"white\",\"linecolor\":\"white\",\"ticks\":\"\",\"title\":{\"standoff\":15},\"zerolinecolor\":\"white\",\"zerolinewidth\":2},\"yaxis\":{\"automargin\":true,\"gridcolor\":\"white\",\"linecolor\":\"white\",\"ticks\":\"\",\"title\":{\"standoff\":15},\"zerolinecolor\":\"white\",\"zerolinewidth\":2}}},\"xaxis\":{\"anchor\":\"y\",\"domain\":[0.0,1.0],\"title\":{\"text\":\"Price per Night (\\uff04)\"}},\"yaxis\":{\"anchor\":\"x\",\"domain\":[0.0,1.0],\"title\":{\"text\":\"Number of Reviews\"}},\"legend\":{\"tracegroupgap\":0},\"margin\":{\"t\":60},\"title\":{\"text\":\"Price per Night (\\uff04) and Number of Reviews\"}},                        {\"responsive\": true}                    ).then(function(){\n",
       "                            \n",
       "var gd = document.getElementById('3cd47d70-30d6-4ddb-8afe-8be796b9229b');\n",
       "var x = new MutationObserver(function (mutations, observer) {{\n",
       "        var display = window.getComputedStyle(gd).display;\n",
       "        if (!display || display === 'none') {{\n",
       "            console.log([gd, 'removed!']);\n",
       "            Plotly.purge(gd);\n",
       "            observer.disconnect();\n",
       "        }}\n",
       "}});\n",
       "\n",
       "// Listen for the removal of the full notebook cells\n",
       "var notebookContainer = gd.closest('#notebook-container');\n",
       "if (notebookContainer) {{\n",
       "    x.observe(notebookContainer, {childList: true});\n",
       "}}\n",
       "\n",
       "// Listen for the clearing of the current output cell\n",
       "var outputEl = gd.closest('.output');\n",
       "if (outputEl) {{\n",
       "    x.observe(outputEl, {childList: true});\n",
       "}}\n",
       "\n",
       "                        })                };                });            </script>        </div>"
      ]
     },
     "metadata": {},
     "output_type": "display_data"
    }
   ],
   "source": [
    "price_reviews_scatter = px.scatter(dfUNIQUE, x='Price_in_USD', y='#_of_Reviews', trendline='ols')\n",
    "price_reviews_scatter.update_layout(title=\"Price per Night (＄) and Number of Reviews\",\n",
    "                                    xaxis_title=\"Price per Night (＄)\",\n",
    "                                    yaxis_title=\"Number of Reviews\")\n",
    "price_reviews_scatter.show()"
   ]
  },
  {
   "cell_type": "markdown",
   "id": "83f5c368-68ab-4c29-a740-018cded20031",
   "metadata": {},
   "source": [
    "## Price per Night and Reviews Overall Rating Scatter Plot"
   ]
  },
  {
   "cell_type": "code",
   "execution_count": 104,
   "id": "ded1709e-db47-4df9-8039-de6f3d07ef6b",
   "metadata": {},
   "outputs": [
    {
     "data": {
      "application/vnd.plotly.v1+json": {
       "config": {
        "plotlyServerURL": "https://plot.ly"
       },
       "data": [
        {
         "hovertemplate": "Price_in_USD=%{x}<br>Reviews_Overall_Rating=%{y}<extra></extra>",
         "legendgroup": "",
         "marker": {
          "color": "#636efa",
          "symbol": "circle"
         },
         "mode": "markers",
         "name": "",
         "orientation": "v",
         "showlegend": false,
         "type": "scatter",
         "x": [
          16,
          16,
          91,
          10,
          18,
          16,
          58,
          22,
          31,
          51,
          19,
          16,
          22,
          16,
          40,
          27,
          24,
          17,
          26,
          55,
          25,
          16,
          16,
          10,
          16,
          23,
          40,
          20,
          22,
          35,
          35,
          16,
          26,
          25,
          35,
          16,
          25,
          38,
          27,
          27,
          32,
          38,
          16,
          16,
          10,
          20,
          27,
          31,
          27,
          34,
          43,
          38,
          44,
          29,
          28,
          19,
          25,
          10,
          16,
          36,
          16,
          39,
          27,
          16,
          17,
          28,
          32,
          26,
          19,
          25,
          29,
          18,
          36,
          26,
          42,
          35,
          68,
          16,
          10,
          16,
          16,
          31,
          27,
          44,
          16,
          30,
          10,
          52,
          17,
          14,
          28,
          16,
          20,
          63,
          50,
          26,
          23,
          36,
          31,
          14,
          16,
          22,
          38,
          48,
          37,
          25,
          38,
          54,
          29,
          41,
          26,
          27,
          23,
          43,
          59,
          62,
          20,
          45,
          33,
          49,
          40,
          49,
          45,
          22,
          32,
          18,
          34,
          51,
          42,
          32,
          18,
          35,
          72,
          20,
          38,
          42,
          43,
          71,
          24,
          38,
          75,
          45,
          35,
          45,
          30,
          42,
          28,
          61,
          27,
          21,
          22,
          48,
          22,
          31,
          32,
          25,
          20,
          41,
          33,
          37,
          29,
          20,
          40,
          36,
          42,
          41,
          25,
          79,
          36,
          38,
          153,
          62,
          49,
          24,
          43,
          80,
          32,
          23,
          16,
          53,
          38,
          29,
          59,
          16,
          67,
          16,
          46,
          32,
          27,
          42,
          28,
          22,
          20,
          45,
          16,
          11,
          59,
          33,
          23,
          26,
          93,
          63,
          24,
          26,
          48,
          24,
          35,
          16,
          17,
          46,
          44,
          33,
          33,
          51,
          30,
          44,
          36,
          37,
          23,
          16,
          24,
          27,
          38,
          12,
          24,
          27,
          26,
          40,
          130,
          40,
          22,
          44,
          33,
          26,
          26,
          105,
          16,
          29,
          37,
          27,
          47,
          20,
          46,
          29,
          39,
          26,
          42,
          30,
          13,
          81,
          30,
          28,
          48,
          45
         ],
         "xaxis": "x",
         "y": [
          4.8,
          4.76,
          4.79,
          4.94,
          4.4,
          4.67,
          5,
          4.8,
          4.84,
          4.64,
          5,
          4.63,
          4.55,
          4.71,
          4.82,
          4.9,
          4.54,
          5,
          4.95,
          4.95,
          4.91,
          4.71,
          4.8,
          4.83,
          4.8,
          4.7,
          4.68,
          4.52,
          4.59,
          4.93,
          4.84,
          5,
          5,
          4.36,
          4.71,
          4.68,
          4.92,
          5,
          4.92,
          4.93,
          4.67,
          4.86,
          4.76,
          5,
          4.58,
          4.53,
          4.67,
          4.86,
          5,
          4.71,
          4.93,
          5,
          4.95,
          4.83,
          4.89,
          5,
          4.81,
          4.96,
          4.87,
          4.87,
          0,
          0,
          4.81,
          4.69,
          0,
          4.59,
          4.91,
          5,
          4.3,
          4.96,
          5,
          4.72,
          4.8,
          4.64,
          4.96,
          4.93,
          5,
          5,
          4.86,
          4.57,
          5,
          4.84,
          4.79,
          5,
          4.62,
          4,
          4.71,
          5,
          4.36,
          4.91,
          4.77,
          4.67,
          4.6,
          4.83,
          4.9,
          4.64,
          4.73,
          4.94,
          4.71,
          5,
          4.59,
          4.55,
          4.71,
          5,
          4.92,
          4.67,
          0,
          5,
          4.79,
          3.67,
          4.75,
          4.81,
          0,
          0,
          5,
          4.88,
          4.84,
          4.88,
          4.84,
          5,
          4.95,
          4.94,
          4.78,
          4.59,
          4.96,
          4.82,
          5,
          4.67,
          4.5,
          5,
          4.78,
          4.81,
          4.42,
          4.92,
          4.8,
          4.85,
          5,
          4.89,
          4.76,
          4.95,
          0,
          4.73,
          4.97,
          4.91,
          4.88,
          4.93,
          4.93,
          5,
          4.62,
          4.87,
          0,
          4.79,
          4.88,
          4.95,
          4.61,
          4.81,
          4.92,
          5,
          4.67,
          4.76,
          5,
          5,
          4.81,
          4.66,
          4.92,
          0,
          4.8,
          4.97,
          5,
          4.78,
          4.82,
          5,
          5,
          4.42,
          4.93,
          4.76,
          4.77,
          0,
          4.83,
          4.82,
          5,
          4.98,
          0,
          4.58,
          4.91,
          4.5,
          0,
          4.83,
          5,
          4.91,
          4.77,
          4.8,
          4.83,
          4.33,
          4.66,
          4.55,
          4.81,
          5,
          5,
          4.87,
          4.86,
          0,
          4.5,
          4.93,
          5,
          4.73,
          0,
          4.94,
          4.67,
          4.91,
          4.86,
          4.33,
          4.94,
          4.83,
          5,
          4.75,
          4.88,
          4.92,
          4.92,
          4.58,
          4.56,
          4.82,
          4.88,
          0,
          4.9,
          5,
          5,
          4.64,
          5,
          5,
          4.9,
          5,
          4.81,
          4.74,
          4.89,
          4.95,
          0,
          4.67,
          5,
          0,
          5,
          4.78,
          5,
          4.81,
          4.84,
          4.38,
          4.83,
          5,
          4.75,
          4.64,
          5,
          4.88,
          0,
          4.91
         ],
         "yaxis": "y"
        },
        {
         "hovertemplate": "<b>OLS trendline</b><br>Reviews_Overall_Rating = -0.000376984 * Price_in_USD + 4.48236<br>R<sup>2</sup>=0.000031<br><br>Price_in_USD=%{x}<br>Reviews_Overall_Rating=%{y} <b>(trend)</b><extra></extra>",
         "legendgroup": "",
         "marker": {
          "color": "#636efa",
          "symbol": "circle"
         },
         "mode": "lines",
         "name": "",
         "showlegend": false,
         "type": "scatter",
         "x": [
          10,
          10,
          10,
          10,
          10,
          10,
          11,
          12,
          13,
          14,
          14,
          16,
          16,
          16,
          16,
          16,
          16,
          16,
          16,
          16,
          16,
          16,
          16,
          16,
          16,
          16,
          16,
          16,
          16,
          16,
          16,
          16,
          16,
          16,
          16,
          16,
          16,
          16,
          16,
          17,
          17,
          17,
          17,
          18,
          18,
          18,
          18,
          19,
          19,
          19,
          20,
          20,
          20,
          20,
          20,
          20,
          20,
          20,
          20,
          21,
          22,
          22,
          22,
          22,
          22,
          22,
          22,
          22,
          22,
          23,
          23,
          23,
          23,
          23,
          23,
          24,
          24,
          24,
          24,
          24,
          24,
          24,
          25,
          25,
          25,
          25,
          25,
          25,
          25,
          25,
          26,
          26,
          26,
          26,
          26,
          26,
          26,
          26,
          26,
          26,
          26,
          26,
          27,
          27,
          27,
          27,
          27,
          27,
          27,
          27,
          27,
          27,
          27,
          27,
          27,
          28,
          28,
          28,
          28,
          28,
          28,
          29,
          29,
          29,
          29,
          29,
          29,
          29,
          30,
          30,
          30,
          30,
          30,
          31,
          31,
          31,
          31,
          31,
          32,
          32,
          32,
          32,
          32,
          32,
          32,
          33,
          33,
          33,
          33,
          33,
          33,
          34,
          34,
          35,
          35,
          35,
          35,
          35,
          35,
          35,
          36,
          36,
          36,
          36,
          36,
          36,
          37,
          37,
          37,
          37,
          38,
          38,
          38,
          38,
          38,
          38,
          38,
          38,
          38,
          38,
          39,
          39,
          40,
          40,
          40,
          40,
          40,
          40,
          41,
          41,
          41,
          42,
          42,
          42,
          42,
          42,
          42,
          42,
          43,
          43,
          43,
          43,
          44,
          44,
          44,
          44,
          44,
          45,
          45,
          45,
          45,
          45,
          45,
          46,
          46,
          46,
          47,
          48,
          48,
          48,
          48,
          49,
          49,
          49,
          50,
          51,
          51,
          51,
          52,
          53,
          54,
          55,
          58,
          59,
          59,
          59,
          61,
          62,
          62,
          63,
          63,
          67,
          68,
          71,
          72,
          75,
          79,
          80,
          81,
          91,
          93,
          105,
          130,
          153
         ],
         "xaxis": "x",
         "y": [
          4.478591661118505,
          4.478591661118505,
          4.478591661118505,
          4.478591661118505,
          4.478591661118505,
          4.478591661118505,
          4.478214676961848,
          4.47783769280519,
          4.477460708648533,
          4.477083724491876,
          4.477083724491876,
          4.476329756178561,
          4.476329756178561,
          4.476329756178561,
          4.476329756178561,
          4.476329756178561,
          4.476329756178561,
          4.476329756178561,
          4.476329756178561,
          4.476329756178561,
          4.476329756178561,
          4.476329756178561,
          4.476329756178561,
          4.476329756178561,
          4.476329756178561,
          4.476329756178561,
          4.476329756178561,
          4.476329756178561,
          4.476329756178561,
          4.476329756178561,
          4.476329756178561,
          4.476329756178561,
          4.476329756178561,
          4.476329756178561,
          4.476329756178561,
          4.476329756178561,
          4.476329756178561,
          4.476329756178561,
          4.476329756178561,
          4.475952772021905,
          4.475952772021905,
          4.475952772021905,
          4.475952772021905,
          4.475575787865247,
          4.475575787865247,
          4.475575787865247,
          4.475575787865247,
          4.47519880370859,
          4.47519880370859,
          4.47519880370859,
          4.4748218195519325,
          4.4748218195519325,
          4.4748218195519325,
          4.4748218195519325,
          4.4748218195519325,
          4.4748218195519325,
          4.4748218195519325,
          4.4748218195519325,
          4.4748218195519325,
          4.474444835395276,
          4.474067851238618,
          4.474067851238618,
          4.474067851238618,
          4.474067851238618,
          4.474067851238618,
          4.474067851238618,
          4.474067851238618,
          4.474067851238618,
          4.474067851238618,
          4.473690867081961,
          4.473690867081961,
          4.473690867081961,
          4.473690867081961,
          4.473690867081961,
          4.473690867081961,
          4.4733138829253045,
          4.4733138829253045,
          4.4733138829253045,
          4.4733138829253045,
          4.4733138829253045,
          4.4733138829253045,
          4.4733138829253045,
          4.472936898768647,
          4.472936898768647,
          4.472936898768647,
          4.472936898768647,
          4.472936898768647,
          4.472936898768647,
          4.472936898768647,
          4.472936898768647,
          4.47255991461199,
          4.47255991461199,
          4.47255991461199,
          4.47255991461199,
          4.47255991461199,
          4.47255991461199,
          4.47255991461199,
          4.47255991461199,
          4.47255991461199,
          4.47255991461199,
          4.47255991461199,
          4.47255991461199,
          4.472182930455332,
          4.472182930455332,
          4.472182930455332,
          4.472182930455332,
          4.472182930455332,
          4.472182930455332,
          4.472182930455332,
          4.472182930455332,
          4.472182930455332,
          4.472182930455332,
          4.472182930455332,
          4.472182930455332,
          4.472182930455332,
          4.471805946298676,
          4.471805946298676,
          4.471805946298676,
          4.471805946298676,
          4.471805946298676,
          4.471805946298676,
          4.471428962142018,
          4.471428962142018,
          4.471428962142018,
          4.471428962142018,
          4.471428962142018,
          4.471428962142018,
          4.471428962142018,
          4.471051977985361,
          4.471051977985361,
          4.471051977985361,
          4.471051977985361,
          4.471051977985361,
          4.470674993828704,
          4.470674993828704,
          4.470674993828704,
          4.470674993828704,
          4.470674993828704,
          4.470298009672047,
          4.470298009672047,
          4.470298009672047,
          4.470298009672047,
          4.470298009672047,
          4.470298009672047,
          4.470298009672047,
          4.469921025515389,
          4.469921025515389,
          4.469921025515389,
          4.469921025515389,
          4.469921025515389,
          4.469921025515389,
          4.469544041358732,
          4.469544041358732,
          4.469167057202075,
          4.469167057202075,
          4.469167057202075,
          4.469167057202075,
          4.469167057202075,
          4.469167057202075,
          4.469167057202075,
          4.468790073045418,
          4.468790073045418,
          4.468790073045418,
          4.468790073045418,
          4.468790073045418,
          4.468790073045418,
          4.46841308888876,
          4.46841308888876,
          4.46841308888876,
          4.46841308888876,
          4.4680361047321036,
          4.4680361047321036,
          4.4680361047321036,
          4.4680361047321036,
          4.4680361047321036,
          4.4680361047321036,
          4.4680361047321036,
          4.4680361047321036,
          4.4680361047321036,
          4.4680361047321036,
          4.467659120575446,
          4.467659120575446,
          4.467282136418789,
          4.467282136418789,
          4.467282136418789,
          4.467282136418789,
          4.467282136418789,
          4.467282136418789,
          4.4669051522621315,
          4.4669051522621315,
          4.4669051522621315,
          4.466528168105475,
          4.466528168105475,
          4.466528168105475,
          4.466528168105475,
          4.466528168105475,
          4.466528168105475,
          4.466528168105475,
          4.466151183948817,
          4.466151183948817,
          4.466151183948817,
          4.466151183948817,
          4.46577419979216,
          4.46577419979216,
          4.46577419979216,
          4.46577419979216,
          4.46577419979216,
          4.465397215635503,
          4.465397215635503,
          4.465397215635503,
          4.465397215635503,
          4.465397215635503,
          4.465397215635503,
          4.465020231478846,
          4.465020231478846,
          4.465020231478846,
          4.464643247322188,
          4.464266263165531,
          4.464266263165531,
          4.464266263165531,
          4.464266263165531,
          4.463889279008875,
          4.463889279008875,
          4.463889279008875,
          4.463512294852217,
          4.46313531069556,
          4.46313531069556,
          4.46313531069556,
          4.462758326538903,
          4.462381342382246,
          4.462004358225588,
          4.461627374068931,
          4.460496421598959,
          4.4601194374423025,
          4.4601194374423025,
          4.4601194374423025,
          4.459365469128988,
          4.4589884849723305,
          4.4589884849723305,
          4.458611500815674,
          4.458611500815674,
          4.457103564189045,
          4.456726580032387,
          4.455595627562416,
          4.455218643405759,
          4.454087690935787,
          4.452579754309158,
          4.4522027701525015,
          4.451825785995844,
          4.448055944429272,
          4.447301976115957,
          4.442778166236072,
          4.433353562319642,
          4.424682926716526
         ],
         "yaxis": "y"
        }
       ],
       "layout": {
        "autosize": true,
        "legend": {
         "tracegroupgap": 0
        },
        "margin": {
         "t": 60
        },
        "template": {
         "data": {
          "bar": [
           {
            "error_x": {
             "color": "#2a3f5f"
            },
            "error_y": {
             "color": "#2a3f5f"
            },
            "marker": {
             "line": {
              "color": "#E5ECF6",
              "width": 0.5
             },
             "pattern": {
              "fillmode": "overlay",
              "size": 10,
              "solidity": 0.2
             }
            },
            "type": "bar"
           }
          ],
          "barpolar": [
           {
            "marker": {
             "line": {
              "color": "#E5ECF6",
              "width": 0.5
             },
             "pattern": {
              "fillmode": "overlay",
              "size": 10,
              "solidity": 0.2
             }
            },
            "type": "barpolar"
           }
          ],
          "carpet": [
           {
            "aaxis": {
             "endlinecolor": "#2a3f5f",
             "gridcolor": "white",
             "linecolor": "white",
             "minorgridcolor": "white",
             "startlinecolor": "#2a3f5f"
            },
            "baxis": {
             "endlinecolor": "#2a3f5f",
             "gridcolor": "white",
             "linecolor": "white",
             "minorgridcolor": "white",
             "startlinecolor": "#2a3f5f"
            },
            "type": "carpet"
           }
          ],
          "choropleth": [
           {
            "colorbar": {
             "outlinewidth": 0,
             "ticks": ""
            },
            "type": "choropleth"
           }
          ],
          "contour": [
           {
            "colorbar": {
             "outlinewidth": 0,
             "ticks": ""
            },
            "colorscale": [
             [
              0,
              "#0d0887"
             ],
             [
              0.1111111111111111,
              "#46039f"
             ],
             [
              0.2222222222222222,
              "#7201a8"
             ],
             [
              0.3333333333333333,
              "#9c179e"
             ],
             [
              0.4444444444444444,
              "#bd3786"
             ],
             [
              0.5555555555555556,
              "#d8576b"
             ],
             [
              0.6666666666666666,
              "#ed7953"
             ],
             [
              0.7777777777777778,
              "#fb9f3a"
             ],
             [
              0.8888888888888888,
              "#fdca26"
             ],
             [
              1,
              "#f0f921"
             ]
            ],
            "type": "contour"
           }
          ],
          "contourcarpet": [
           {
            "colorbar": {
             "outlinewidth": 0,
             "ticks": ""
            },
            "type": "contourcarpet"
           }
          ],
          "heatmap": [
           {
            "colorbar": {
             "outlinewidth": 0,
             "ticks": ""
            },
            "colorscale": [
             [
              0,
              "#0d0887"
             ],
             [
              0.1111111111111111,
              "#46039f"
             ],
             [
              0.2222222222222222,
              "#7201a8"
             ],
             [
              0.3333333333333333,
              "#9c179e"
             ],
             [
              0.4444444444444444,
              "#bd3786"
             ],
             [
              0.5555555555555556,
              "#d8576b"
             ],
             [
              0.6666666666666666,
              "#ed7953"
             ],
             [
              0.7777777777777778,
              "#fb9f3a"
             ],
             [
              0.8888888888888888,
              "#fdca26"
             ],
             [
              1,
              "#f0f921"
             ]
            ],
            "type": "heatmap"
           }
          ],
          "heatmapgl": [
           {
            "colorbar": {
             "outlinewidth": 0,
             "ticks": ""
            },
            "colorscale": [
             [
              0,
              "#0d0887"
             ],
             [
              0.1111111111111111,
              "#46039f"
             ],
             [
              0.2222222222222222,
              "#7201a8"
             ],
             [
              0.3333333333333333,
              "#9c179e"
             ],
             [
              0.4444444444444444,
              "#bd3786"
             ],
             [
              0.5555555555555556,
              "#d8576b"
             ],
             [
              0.6666666666666666,
              "#ed7953"
             ],
             [
              0.7777777777777778,
              "#fb9f3a"
             ],
             [
              0.8888888888888888,
              "#fdca26"
             ],
             [
              1,
              "#f0f921"
             ]
            ],
            "type": "heatmapgl"
           }
          ],
          "histogram": [
           {
            "marker": {
             "pattern": {
              "fillmode": "overlay",
              "size": 10,
              "solidity": 0.2
             }
            },
            "type": "histogram"
           }
          ],
          "histogram2d": [
           {
            "colorbar": {
             "outlinewidth": 0,
             "ticks": ""
            },
            "colorscale": [
             [
              0,
              "#0d0887"
             ],
             [
              0.1111111111111111,
              "#46039f"
             ],
             [
              0.2222222222222222,
              "#7201a8"
             ],
             [
              0.3333333333333333,
              "#9c179e"
             ],
             [
              0.4444444444444444,
              "#bd3786"
             ],
             [
              0.5555555555555556,
              "#d8576b"
             ],
             [
              0.6666666666666666,
              "#ed7953"
             ],
             [
              0.7777777777777778,
              "#fb9f3a"
             ],
             [
              0.8888888888888888,
              "#fdca26"
             ],
             [
              1,
              "#f0f921"
             ]
            ],
            "type": "histogram2d"
           }
          ],
          "histogram2dcontour": [
           {
            "colorbar": {
             "outlinewidth": 0,
             "ticks": ""
            },
            "colorscale": [
             [
              0,
              "#0d0887"
             ],
             [
              0.1111111111111111,
              "#46039f"
             ],
             [
              0.2222222222222222,
              "#7201a8"
             ],
             [
              0.3333333333333333,
              "#9c179e"
             ],
             [
              0.4444444444444444,
              "#bd3786"
             ],
             [
              0.5555555555555556,
              "#d8576b"
             ],
             [
              0.6666666666666666,
              "#ed7953"
             ],
             [
              0.7777777777777778,
              "#fb9f3a"
             ],
             [
              0.8888888888888888,
              "#fdca26"
             ],
             [
              1,
              "#f0f921"
             ]
            ],
            "type": "histogram2dcontour"
           }
          ],
          "mesh3d": [
           {
            "colorbar": {
             "outlinewidth": 0,
             "ticks": ""
            },
            "type": "mesh3d"
           }
          ],
          "parcoords": [
           {
            "line": {
             "colorbar": {
              "outlinewidth": 0,
              "ticks": ""
             }
            },
            "type": "parcoords"
           }
          ],
          "pie": [
           {
            "automargin": true,
            "type": "pie"
           }
          ],
          "scatter": [
           {
            "marker": {
             "colorbar": {
              "outlinewidth": 0,
              "ticks": ""
             }
            },
            "type": "scatter"
           }
          ],
          "scatter3d": [
           {
            "line": {
             "colorbar": {
              "outlinewidth": 0,
              "ticks": ""
             }
            },
            "marker": {
             "colorbar": {
              "outlinewidth": 0,
              "ticks": ""
             }
            },
            "type": "scatter3d"
           }
          ],
          "scattercarpet": [
           {
            "marker": {
             "colorbar": {
              "outlinewidth": 0,
              "ticks": ""
             }
            },
            "type": "scattercarpet"
           }
          ],
          "scattergeo": [
           {
            "marker": {
             "colorbar": {
              "outlinewidth": 0,
              "ticks": ""
             }
            },
            "type": "scattergeo"
           }
          ],
          "scattergl": [
           {
            "marker": {
             "colorbar": {
              "outlinewidth": 0,
              "ticks": ""
             }
            },
            "type": "scattergl"
           }
          ],
          "scattermapbox": [
           {
            "marker": {
             "colorbar": {
              "outlinewidth": 0,
              "ticks": ""
             }
            },
            "type": "scattermapbox"
           }
          ],
          "scatterpolar": [
           {
            "marker": {
             "colorbar": {
              "outlinewidth": 0,
              "ticks": ""
             }
            },
            "type": "scatterpolar"
           }
          ],
          "scatterpolargl": [
           {
            "marker": {
             "colorbar": {
              "outlinewidth": 0,
              "ticks": ""
             }
            },
            "type": "scatterpolargl"
           }
          ],
          "scatterternary": [
           {
            "marker": {
             "colorbar": {
              "outlinewidth": 0,
              "ticks": ""
             }
            },
            "type": "scatterternary"
           }
          ],
          "surface": [
           {
            "colorbar": {
             "outlinewidth": 0,
             "ticks": ""
            },
            "colorscale": [
             [
              0,
              "#0d0887"
             ],
             [
              0.1111111111111111,
              "#46039f"
             ],
             [
              0.2222222222222222,
              "#7201a8"
             ],
             [
              0.3333333333333333,
              "#9c179e"
             ],
             [
              0.4444444444444444,
              "#bd3786"
             ],
             [
              0.5555555555555556,
              "#d8576b"
             ],
             [
              0.6666666666666666,
              "#ed7953"
             ],
             [
              0.7777777777777778,
              "#fb9f3a"
             ],
             [
              0.8888888888888888,
              "#fdca26"
             ],
             [
              1,
              "#f0f921"
             ]
            ],
            "type": "surface"
           }
          ],
          "table": [
           {
            "cells": {
             "fill": {
              "color": "#EBF0F8"
             },
             "line": {
              "color": "white"
             }
            },
            "header": {
             "fill": {
              "color": "#C8D4E3"
             },
             "line": {
              "color": "white"
             }
            },
            "type": "table"
           }
          ]
         },
         "layout": {
          "annotationdefaults": {
           "arrowcolor": "#2a3f5f",
           "arrowhead": 0,
           "arrowwidth": 1
          },
          "autotypenumbers": "strict",
          "coloraxis": {
           "colorbar": {
            "outlinewidth": 0,
            "ticks": ""
           }
          },
          "colorscale": {
           "diverging": [
            [
             0,
             "#8e0152"
            ],
            [
             0.1,
             "#c51b7d"
            ],
            [
             0.2,
             "#de77ae"
            ],
            [
             0.3,
             "#f1b6da"
            ],
            [
             0.4,
             "#fde0ef"
            ],
            [
             0.5,
             "#f7f7f7"
            ],
            [
             0.6,
             "#e6f5d0"
            ],
            [
             0.7,
             "#b8e186"
            ],
            [
             0.8,
             "#7fbc41"
            ],
            [
             0.9,
             "#4d9221"
            ],
            [
             1,
             "#276419"
            ]
           ],
           "sequential": [
            [
             0,
             "#0d0887"
            ],
            [
             0.1111111111111111,
             "#46039f"
            ],
            [
             0.2222222222222222,
             "#7201a8"
            ],
            [
             0.3333333333333333,
             "#9c179e"
            ],
            [
             0.4444444444444444,
             "#bd3786"
            ],
            [
             0.5555555555555556,
             "#d8576b"
            ],
            [
             0.6666666666666666,
             "#ed7953"
            ],
            [
             0.7777777777777778,
             "#fb9f3a"
            ],
            [
             0.8888888888888888,
             "#fdca26"
            ],
            [
             1,
             "#f0f921"
            ]
           ],
           "sequentialminus": [
            [
             0,
             "#0d0887"
            ],
            [
             0.1111111111111111,
             "#46039f"
            ],
            [
             0.2222222222222222,
             "#7201a8"
            ],
            [
             0.3333333333333333,
             "#9c179e"
            ],
            [
             0.4444444444444444,
             "#bd3786"
            ],
            [
             0.5555555555555556,
             "#d8576b"
            ],
            [
             0.6666666666666666,
             "#ed7953"
            ],
            [
             0.7777777777777778,
             "#fb9f3a"
            ],
            [
             0.8888888888888888,
             "#fdca26"
            ],
            [
             1,
             "#f0f921"
            ]
           ]
          },
          "colorway": [
           "#636efa",
           "#EF553B",
           "#00cc96",
           "#ab63fa",
           "#FFA15A",
           "#19d3f3",
           "#FF6692",
           "#B6E880",
           "#FF97FF",
           "#FECB52"
          ],
          "font": {
           "color": "#2a3f5f"
          },
          "geo": {
           "bgcolor": "white",
           "lakecolor": "white",
           "landcolor": "#E5ECF6",
           "showlakes": true,
           "showland": true,
           "subunitcolor": "white"
          },
          "hoverlabel": {
           "align": "left"
          },
          "hovermode": "closest",
          "mapbox": {
           "style": "light"
          },
          "paper_bgcolor": "white",
          "plot_bgcolor": "#E5ECF6",
          "polar": {
           "angularaxis": {
            "gridcolor": "white",
            "linecolor": "white",
            "ticks": ""
           },
           "bgcolor": "#E5ECF6",
           "radialaxis": {
            "gridcolor": "white",
            "linecolor": "white",
            "ticks": ""
           }
          },
          "scene": {
           "xaxis": {
            "backgroundcolor": "#E5ECF6",
            "gridcolor": "white",
            "gridwidth": 2,
            "linecolor": "white",
            "showbackground": true,
            "ticks": "",
            "zerolinecolor": "white"
           },
           "yaxis": {
            "backgroundcolor": "#E5ECF6",
            "gridcolor": "white",
            "gridwidth": 2,
            "linecolor": "white",
            "showbackground": true,
            "ticks": "",
            "zerolinecolor": "white"
           },
           "zaxis": {
            "backgroundcolor": "#E5ECF6",
            "gridcolor": "white",
            "gridwidth": 2,
            "linecolor": "white",
            "showbackground": true,
            "ticks": "",
            "zerolinecolor": "white"
           }
          },
          "shapedefaults": {
           "line": {
            "color": "#2a3f5f"
           }
          },
          "ternary": {
           "aaxis": {
            "gridcolor": "white",
            "linecolor": "white",
            "ticks": ""
           },
           "baxis": {
            "gridcolor": "white",
            "linecolor": "white",
            "ticks": ""
           },
           "bgcolor": "#E5ECF6",
           "caxis": {
            "gridcolor": "white",
            "linecolor": "white",
            "ticks": ""
           }
          },
          "title": {
           "x": 0.05
          },
          "xaxis": {
           "automargin": true,
           "gridcolor": "white",
           "linecolor": "white",
           "ticks": "",
           "title": {
            "standoff": 15
           },
           "zerolinecolor": "white",
           "zerolinewidth": 2
          },
          "yaxis": {
           "automargin": true,
           "gridcolor": "white",
           "linecolor": "white",
           "ticks": "",
           "title": {
            "standoff": 15
           },
           "zerolinecolor": "white",
           "zerolinewidth": 2
          }
         }
        },
        "title": {
         "text": "Price per Night (＄) and Reviews Overall Rating"
        },
        "xaxis": {
         "anchor": "y",
         "autorange": true,
         "domain": [
          0,
          1
         ],
         "range": [
          1.3333333333333321,
          161.66666666666666
         ],
         "title": {
          "text": "Price per Night (＄)"
         },
         "type": "linear"
        },
        "yaxis": {
         "anchor": "x",
         "autorange": true,
         "domain": [
          0,
          1
         ],
         "range": [
          -0.38713910761154857,
          5.3871391076115485
         ],
         "title": {
          "text": "Reviews Overall Rating"
         },
         "type": "linear"
        }
       }
      },
      "image/png": "[encoded data removed]",
      "text/html": [
       "<div>                            <div id=\"392ea6a0-3264-4c6e-a271-a5a6dc2e7178\" class=\"plotly-graph-div\" style=\"height:525px; width:100%;\"></div>            <script type=\"text/javascript\">                require([\"plotly\"], function(Plotly) {                    window.PLOTLYENV=window.PLOTLYENV || {};                                    if (document.getElementById(\"392ea6a0-3264-4c6e-a271-a5a6dc2e7178\")) {                    Plotly.newPlot(                        \"392ea6a0-3264-4c6e-a271-a5a6dc2e7178\",                        [{\"hovertemplate\":\"Price_in_USD=%{x}<br>Reviews_Overall_Rating=%{y}<extra></extra>\",\"legendgroup\":\"\",\"marker\":{\"color\":\"#636efa\",\"symbol\":\"circle\"},\"mode\":\"markers\",\"name\":\"\",\"orientation\":\"v\",\"showlegend\":false,\"x\":[16,16,91,10,18,16,58,22,31,51,19,16,22,16,40,27,24,17,26,55,25,16,16,10,16,23,40,20,22,35,35,16,26,25,35,16,25,38,27,27,32,38,16,16,10,20,27,31,27,34,43,38,44,29,28,19,25,10,16,36,16,39,27,16,17,28,32,26,19,25,29,18,36,26,42,35,68,16,10,16,16,31,27,44,16,30,10,52,17,14,28,16,20,63,50,26,23,36,31,14,16,22,38,48,37,25,38,54,29,41,26,27,23,43,59,62,20,45,33,49,40,49,45,22,32,18,34,51,42,32,18,35,72,20,38,42,43,71,24,38,75,45,35,45,30,42,28,61,27,21,22,48,22,31,32,25,20,41,33,37,29,20,40,36,42,41,25,79,36,38,153,62,49,24,43,80,32,23,16,53,38,29,59,16,67,16,46,32,27,42,28,22,20,45,16,11,59,33,23,26,93,63,24,26,48,24,35,16,17,46,44,33,33,51,30,44,36,37,23,16,24,27,38,12,24,27,26,40,130,40,22,44,33,26,26,105,16,29,37,27,47,20,46,29,39,26,42,30,13,81,30,28,48,45],\"xaxis\":\"x\",\"y\":[4.8,4.76,4.79,4.94,4.4,4.67,5.0,4.8,4.84,4.64,5.0,4.63,4.55,4.71,4.82,4.9,4.54,5.0,4.95,4.95,4.91,4.71,4.8,4.83,4.8,4.7,4.68,4.52,4.59,4.93,4.84,5.0,5.0,4.36,4.71,4.68,4.92,5.0,4.92,4.93,4.67,4.86,4.76,5.0,4.58,4.53,4.67,4.86,5.0,4.71,4.93,5.0,4.95,4.83,4.89,5.0,4.81,4.96,4.87,4.87,0.0,0.0,4.81,4.69,0.0,4.59,4.91,5.0,4.3,4.96,5.0,4.72,4.8,4.64,4.96,4.93,5.0,5.0,4.86,4.57,5.0,4.84,4.79,5.0,4.62,4.0,4.71,5.0,4.36,4.91,4.77,4.67,4.6,4.83,4.9,4.64,4.73,4.94,4.71,5.0,4.59,4.55,4.71,5.0,4.92,4.67,0.0,5.0,4.79,3.67,4.75,4.81,0.0,0.0,5.0,4.88,4.84,4.88,4.84,5.0,4.95,4.94,4.78,4.59,4.96,4.82,5.0,4.67,4.5,5.0,4.78,4.81,4.42,4.92,4.8,4.85,5.0,4.89,4.76,4.95,0.0,4.73,4.97,4.91,4.88,4.93,4.93,5.0,4.62,4.87,0.0,4.79,4.88,4.95,4.61,4.81,4.92,5.0,4.67,4.76,5.0,5.0,4.81,4.66,4.92,0.0,4.8,4.97,5.0,4.78,4.82,5.0,5.0,4.42,4.93,4.76,4.77,0.0,4.83,4.82,5.0,4.98,0.0,4.58,4.91,4.5,0.0,4.83,5.0,4.91,4.77,4.8,4.83,4.33,4.66,4.55,4.81,5.0,5.0,4.87,4.86,0.0,4.5,4.93,5.0,4.73,0.0,4.94,4.67,4.91,4.86,4.33,4.94,4.83,5.0,4.75,4.88,4.92,4.92,4.58,4.56,4.82,4.88,0.0,4.9,5.0,5.0,4.64,5.0,5.0,4.9,5.0,4.81,4.74,4.89,4.95,0.0,4.67,5.0,0.0,5.0,4.78,5.0,4.81,4.84,4.38,4.83,5.0,4.75,4.64,5.0,4.88,0.0,4.91],\"yaxis\":\"y\",\"type\":\"scatter\"},{\"hovertemplate\":\"<b>OLS trendline</b><br>Reviews_Overall_Rating = -0.000376984 * Price_in_USD + 4.48236<br>R<sup>2</sup>=0.000031<br><br>Price_in_USD=%{x}<br>Reviews_Overall_Rating=%{y} <b>(trend)</b><extra></extra>\",\"legendgroup\":\"\",\"marker\":{\"color\":\"#636efa\",\"symbol\":\"circle\"},\"mode\":\"lines\",\"name\":\"\",\"showlegend\":false,\"x\":[10,10,10,10,10,10,11,12,13,14,14,16,16,16,16,16,16,16,16,16,16,16,16,16,16,16,16,16,16,16,16,16,16,16,16,16,16,16,16,17,17,17,17,18,18,18,18,19,19,19,20,20,20,20,20,20,20,20,20,21,22,22,22,22,22,22,22,22,22,23,23,23,23,23,23,24,24,24,24,24,24,24,25,25,25,25,25,25,25,25,26,26,26,26,26,26,26,26,26,26,26,26,27,27,27,27,27,27,27,27,27,27,27,27,27,28,28,28,28,28,28,29,29,29,29,29,29,29,30,30,30,30,30,31,31,31,31,31,32,32,32,32,32,32,32,33,33,33,33,33,33,34,34,35,35,35,35,35,35,35,36,36,36,36,36,36,37,37,37,37,38,38,38,38,38,38,38,38,38,38,39,39,40,40,40,40,40,40,41,41,41,42,42,42,42,42,42,42,43,43,43,43,44,44,44,44,44,45,45,45,45,45,45,46,46,46,47,48,48,48,48,49,49,49,50,51,51,51,52,53,54,55,58,59,59,59,61,62,62,63,63,67,68,71,72,75,79,80,81,91,93,105,130,153],\"xaxis\":\"x\",\"y\":[4.478591661118505,4.478591661118505,4.478591661118505,4.478591661118505,4.478591661118505,4.478591661118505,4.478214676961848,4.47783769280519,4.477460708648533,4.477083724491876,4.477083724491876,4.476329756178561,4.476329756178561,4.476329756178561,4.476329756178561,4.476329756178561,4.476329756178561,4.476329756178561,4.476329756178561,4.476329756178561,4.476329756178561,4.476329756178561,4.476329756178561,4.476329756178561,4.476329756178561,4.476329756178561,4.476329756178561,4.476329756178561,4.476329756178561,4.476329756178561,4.476329756178561,4.476329756178561,4.476329756178561,4.476329756178561,4.476329756178561,4.476329756178561,4.476329756178561,4.476329756178561,4.476329756178561,4.475952772021905,4.475952772021905,4.475952772021905,4.475952772021905,4.475575787865247,4.475575787865247,4.475575787865247,4.475575787865247,4.47519880370859,4.47519880370859,4.47519880370859,4.4748218195519325,4.4748218195519325,4.4748218195519325,4.4748218195519325,4.4748218195519325,4.4748218195519325,4.4748218195519325,4.4748218195519325,4.4748218195519325,4.474444835395276,4.474067851238618,4.474067851238618,4.474067851238618,4.474067851238618,4.474067851238618,4.474067851238618,4.474067851238618,4.474067851238618,4.474067851238618,4.473690867081961,4.473690867081961,4.473690867081961,4.473690867081961,4.473690867081961,4.473690867081961,4.4733138829253045,4.4733138829253045,4.4733138829253045,4.4733138829253045,4.4733138829253045,4.4733138829253045,4.4733138829253045,4.472936898768647,4.472936898768647,4.472936898768647,4.472936898768647,4.472936898768647,4.472936898768647,4.472936898768647,4.472936898768647,4.47255991461199,4.47255991461199,4.47255991461199,4.47255991461199,4.47255991461199,4.47255991461199,4.47255991461199,4.47255991461199,4.47255991461199,4.47255991461199,4.47255991461199,4.47255991461199,4.472182930455332,4.472182930455332,4.472182930455332,4.472182930455332,4.472182930455332,4.472182930455332,4.472182930455332,4.472182930455332,4.472182930455332,4.472182930455332,4.472182930455332,4.472182930455332,4.472182930455332,4.471805946298676,4.471805946298676,4.471805946298676,4.471805946298676,4.471805946298676,4.471805946298676,4.471428962142018,4.471428962142018,4.471428962142018,4.471428962142018,4.471428962142018,4.471428962142018,4.471428962142018,4.471051977985361,4.471051977985361,4.471051977985361,4.471051977985361,4.471051977985361,4.470674993828704,4.470674993828704,4.470674993828704,4.470674993828704,4.470674993828704,4.470298009672047,4.470298009672047,4.470298009672047,4.470298009672047,4.470298009672047,4.470298009672047,4.470298009672047,4.469921025515389,4.469921025515389,4.469921025515389,4.469921025515389,4.469921025515389,4.469921025515389,4.469544041358732,4.469544041358732,4.469167057202075,4.469167057202075,4.469167057202075,4.469167057202075,4.469167057202075,4.469167057202075,4.469167057202075,4.468790073045418,4.468790073045418,4.468790073045418,4.468790073045418,4.468790073045418,4.468790073045418,4.46841308888876,4.46841308888876,4.46841308888876,4.46841308888876,4.4680361047321036,4.4680361047321036,4.4680361047321036,4.4680361047321036,4.4680361047321036,4.4680361047321036,4.4680361047321036,4.4680361047321036,4.4680361047321036,4.4680361047321036,4.467659120575446,4.467659120575446,4.467282136418789,4.467282136418789,4.467282136418789,4.467282136418789,4.467282136418789,4.467282136418789,4.4669051522621315,4.4669051522621315,4.4669051522621315,4.466528168105475,4.466528168105475,4.466528168105475,4.466528168105475,4.466528168105475,4.466528168105475,4.466528168105475,4.466151183948817,4.466151183948817,4.466151183948817,4.466151183948817,4.46577419979216,4.46577419979216,4.46577419979216,4.46577419979216,4.46577419979216,4.465397215635503,4.465397215635503,4.465397215635503,4.465397215635503,4.465397215635503,4.465397215635503,4.465020231478846,4.465020231478846,4.465020231478846,4.464643247322188,4.464266263165531,4.464266263165531,4.464266263165531,4.464266263165531,4.463889279008875,4.463889279008875,4.463889279008875,4.463512294852217,4.46313531069556,4.46313531069556,4.46313531069556,4.462758326538903,4.462381342382246,4.462004358225588,4.461627374068931,4.460496421598959,4.4601194374423025,4.4601194374423025,4.4601194374423025,4.459365469128988,4.4589884849723305,4.4589884849723305,4.458611500815674,4.458611500815674,4.457103564189045,4.456726580032387,4.455595627562416,4.455218643405759,4.454087690935787,4.452579754309158,4.4522027701525015,4.451825785995844,4.448055944429272,4.447301976115957,4.442778166236072,4.433353562319642,4.424682926716526],\"yaxis\":\"y\",\"type\":\"scatter\"}],                        {\"template\":{\"data\":{\"bar\":[{\"error_x\":{\"color\":\"#2a3f5f\"},\"error_y\":{\"color\":\"#2a3f5f\"},\"marker\":{\"line\":{\"color\":\"#E5ECF6\",\"width\":0.5},\"pattern\":{\"fillmode\":\"overlay\",\"size\":10,\"solidity\":0.2}},\"type\":\"bar\"}],\"barpolar\":[{\"marker\":{\"line\":{\"color\":\"#E5ECF6\",\"width\":0.5},\"pattern\":{\"fillmode\":\"overlay\",\"size\":10,\"solidity\":0.2}},\"type\":\"barpolar\"}],\"carpet\":[{\"aaxis\":{\"endlinecolor\":\"#2a3f5f\",\"gridcolor\":\"white\",\"linecolor\":\"white\",\"minorgridcolor\":\"white\",\"startlinecolor\":\"#2a3f5f\"},\"baxis\":{\"endlinecolor\":\"#2a3f5f\",\"gridcolor\":\"white\",\"linecolor\":\"white\",\"minorgridcolor\":\"white\",\"startlinecolor\":\"#2a3f5f\"},\"type\":\"carpet\"}],\"choropleth\":[{\"colorbar\":{\"outlinewidth\":0,\"ticks\":\"\"},\"type\":\"choropleth\"}],\"contour\":[{\"colorbar\":{\"outlinewidth\":0,\"ticks\":\"\"},\"colorscale\":[[0.0,\"#0d0887\"],[0.1111111111111111,\"#46039f\"],[0.2222222222222222,\"#7201a8\"],[0.3333333333333333,\"#9c179e\"],[0.4444444444444444,\"#bd3786\"],[0.5555555555555556,\"#d8576b\"],[0.6666666666666666,\"#ed7953\"],[0.7777777777777778,\"#fb9f3a\"],[0.8888888888888888,\"#fdca26\"],[1.0,\"#f0f921\"]],\"type\":\"contour\"}],\"contourcarpet\":[{\"colorbar\":{\"outlinewidth\":0,\"ticks\":\"\"},\"type\":\"contourcarpet\"}],\"heatmap\":[{\"colorbar\":{\"outlinewidth\":0,\"ticks\":\"\"},\"colorscale\":[[0.0,\"#0d0887\"],[0.1111111111111111,\"#46039f\"],[0.2222222222222222,\"#7201a8\"],[0.3333333333333333,\"#9c179e\"],[0.4444444444444444,\"#bd3786\"],[0.5555555555555556,\"#d8576b\"],[0.6666666666666666,\"#ed7953\"],[0.7777777777777778,\"#fb9f3a\"],[0.8888888888888888,\"#fdca26\"],[1.0,\"#f0f921\"]],\"type\":\"heatmap\"}],\"heatmapgl\":[{\"colorbar\":{\"outlinewidth\":0,\"ticks\":\"\"},\"colorscale\":[[0.0,\"#0d0887\"],[0.1111111111111111,\"#46039f\"],[0.2222222222222222,\"#7201a8\"],[0.3333333333333333,\"#9c179e\"],[0.4444444444444444,\"#bd3786\"],[0.5555555555555556,\"#d8576b\"],[0.6666666666666666,\"#ed7953\"],[0.7777777777777778,\"#fb9f3a\"],[0.8888888888888888,\"#fdca26\"],[1.0,\"#f0f921\"]],\"type\":\"heatmapgl\"}],\"histogram\":[{\"marker\":{\"pattern\":{\"fillmode\":\"overlay\",\"size\":10,\"solidity\":0.2}},\"type\":\"histogram\"}],\"histogram2d\":[{\"colorbar\":{\"outlinewidth\":0,\"ticks\":\"\"},\"colorscale\":[[0.0,\"#0d0887\"],[0.1111111111111111,\"#46039f\"],[0.2222222222222222,\"#7201a8\"],[0.3333333333333333,\"#9c179e\"],[0.4444444444444444,\"#bd3786\"],[0.5555555555555556,\"#d8576b\"],[0.6666666666666666,\"#ed7953\"],[0.7777777777777778,\"#fb9f3a\"],[0.8888888888888888,\"#fdca26\"],[1.0,\"#f0f921\"]],\"type\":\"histogram2d\"}],\"histogram2dcontour\":[{\"colorbar\":{\"outlinewidth\":0,\"ticks\":\"\"},\"colorscale\":[[0.0,\"#0d0887\"],[0.1111111111111111,\"#46039f\"],[0.2222222222222222,\"#7201a8\"],[0.3333333333333333,\"#9c179e\"],[0.4444444444444444,\"#bd3786\"],[0.5555555555555556,\"#d8576b\"],[0.6666666666666666,\"#ed7953\"],[0.7777777777777778,\"#fb9f3a\"],[0.8888888888888888,\"#fdca26\"],[1.0,\"#f0f921\"]],\"type\":\"histogram2dcontour\"}],\"mesh3d\":[{\"colorbar\":{\"outlinewidth\":0,\"ticks\":\"\"},\"type\":\"mesh3d\"}],\"parcoords\":[{\"line\":{\"colorbar\":{\"outlinewidth\":0,\"ticks\":\"\"}},\"type\":\"parcoords\"}],\"pie\":[{\"automargin\":true,\"type\":\"pie\"}],\"scatter\":[{\"marker\":{\"colorbar\":{\"outlinewidth\":0,\"ticks\":\"\"}},\"type\":\"scatter\"}],\"scatter3d\":[{\"line\":{\"colorbar\":{\"outlinewidth\":0,\"ticks\":\"\"}},\"marker\":{\"colorbar\":{\"outlinewidth\":0,\"ticks\":\"\"}},\"type\":\"scatter3d\"}],\"scattercarpet\":[{\"marker\":{\"colorbar\":{\"outlinewidth\":0,\"ticks\":\"\"}},\"type\":\"scattercarpet\"}],\"scattergeo\":[{\"marker\":{\"colorbar\":{\"outlinewidth\":0,\"ticks\":\"\"}},\"type\":\"scattergeo\"}],\"scattergl\":[{\"marker\":{\"colorbar\":{\"outlinewidth\":0,\"ticks\":\"\"}},\"type\":\"scattergl\"}],\"scattermapbox\":[{\"marker\":{\"colorbar\":{\"outlinewidth\":0,\"ticks\":\"\"}},\"type\":\"scattermapbox\"}],\"scatterpolar\":[{\"marker\":{\"colorbar\":{\"outlinewidth\":0,\"ticks\":\"\"}},\"type\":\"scatterpolar\"}],\"scatterpolargl\":[{\"marker\":{\"colorbar\":{\"outlinewidth\":0,\"ticks\":\"\"}},\"type\":\"scatterpolargl\"}],\"scatterternary\":[{\"marker\":{\"colorbar\":{\"outlinewidth\":0,\"ticks\":\"\"}},\"type\":\"scatterternary\"}],\"surface\":[{\"colorbar\":{\"outlinewidth\":0,\"ticks\":\"\"},\"colorscale\":[[0.0,\"#0d0887\"],[0.1111111111111111,\"#46039f\"],[0.2222222222222222,\"#7201a8\"],[0.3333333333333333,\"#9c179e\"],[0.4444444444444444,\"#bd3786\"],[0.5555555555555556,\"#d8576b\"],[0.6666666666666666,\"#ed7953\"],[0.7777777777777778,\"#fb9f3a\"],[0.8888888888888888,\"#fdca26\"],[1.0,\"#f0f921\"]],\"type\":\"surface\"}],\"table\":[{\"cells\":{\"fill\":{\"color\":\"#EBF0F8\"},\"line\":{\"color\":\"white\"}},\"header\":{\"fill\":{\"color\":\"#C8D4E3\"},\"line\":{\"color\":\"white\"}},\"type\":\"table\"}]},\"layout\":{\"annotationdefaults\":{\"arrowcolor\":\"#2a3f5f\",\"arrowhead\":0,\"arrowwidth\":1},\"autotypenumbers\":\"strict\",\"coloraxis\":{\"colorbar\":{\"outlinewidth\":0,\"ticks\":\"\"}},\"colorscale\":{\"diverging\":[[0,\"#8e0152\"],[0.1,\"#c51b7d\"],[0.2,\"#de77ae\"],[0.3,\"#f1b6da\"],[0.4,\"#fde0ef\"],[0.5,\"#f7f7f7\"],[0.6,\"#e6f5d0\"],[0.7,\"#b8e186\"],[0.8,\"#7fbc41\"],[0.9,\"#4d9221\"],[1,\"#276419\"]],\"sequential\":[[0.0,\"#0d0887\"],[0.1111111111111111,\"#46039f\"],[0.2222222222222222,\"#7201a8\"],[0.3333333333333333,\"#9c179e\"],[0.4444444444444444,\"#bd3786\"],[0.5555555555555556,\"#d8576b\"],[0.6666666666666666,\"#ed7953\"],[0.7777777777777778,\"#fb9f3a\"],[0.8888888888888888,\"#fdca26\"],[1.0,\"#f0f921\"]],\"sequentialminus\":[[0.0,\"#0d0887\"],[0.1111111111111111,\"#46039f\"],[0.2222222222222222,\"#7201a8\"],[0.3333333333333333,\"#9c179e\"],[0.4444444444444444,\"#bd3786\"],[0.5555555555555556,\"#d8576b\"],[0.6666666666666666,\"#ed7953\"],[0.7777777777777778,\"#fb9f3a\"],[0.8888888888888888,\"#fdca26\"],[1.0,\"#f0f921\"]]},\"colorway\":[\"#636efa\",\"#EF553B\",\"#00cc96\",\"#ab63fa\",\"#FFA15A\",\"#19d3f3\",\"#FF6692\",\"#B6E880\",\"#FF97FF\",\"#FECB52\"],\"font\":{\"color\":\"#2a3f5f\"},\"geo\":{\"bgcolor\":\"white\",\"lakecolor\":\"white\",\"landcolor\":\"#E5ECF6\",\"showlakes\":true,\"showland\":true,\"subunitcolor\":\"white\"},\"hoverlabel\":{\"align\":\"left\"},\"hovermode\":\"closest\",\"mapbox\":{\"style\":\"light\"},\"paper_bgcolor\":\"white\",\"plot_bgcolor\":\"#E5ECF6\",\"polar\":{\"angularaxis\":{\"gridcolor\":\"white\",\"linecolor\":\"white\",\"ticks\":\"\"},\"bgcolor\":\"#E5ECF6\",\"radialaxis\":{\"gridcolor\":\"white\",\"linecolor\":\"white\",\"ticks\":\"\"}},\"scene\":{\"xaxis\":{\"backgroundcolor\":\"#E5ECF6\",\"gridcolor\":\"white\",\"gridwidth\":2,\"linecolor\":\"white\",\"showbackground\":true,\"ticks\":\"\",\"zerolinecolor\":\"white\"},\"yaxis\":{\"backgroundcolor\":\"#E5ECF6\",\"gridcolor\":\"white\",\"gridwidth\":2,\"linecolor\":\"white\",\"showbackground\":true,\"ticks\":\"\",\"zerolinecolor\":\"white\"},\"zaxis\":{\"backgroundcolor\":\"#E5ECF6\",\"gridcolor\":\"white\",\"gridwidth\":2,\"linecolor\":\"white\",\"showbackground\":true,\"ticks\":\"\",\"zerolinecolor\":\"white\"}},\"shapedefaults\":{\"line\":{\"color\":\"#2a3f5f\"}},\"ternary\":{\"aaxis\":{\"gridcolor\":\"white\",\"linecolor\":\"white\",\"ticks\":\"\"},\"baxis\":{\"gridcolor\":\"white\",\"linecolor\":\"white\",\"ticks\":\"\"},\"bgcolor\":\"#E5ECF6\",\"caxis\":{\"gridcolor\":\"white\",\"linecolor\":\"white\",\"ticks\":\"\"}},\"title\":{\"x\":0.05},\"xaxis\":{\"automargin\":true,\"gridcolor\":\"white\",\"linecolor\":\"white\",\"ticks\":\"\",\"title\":{\"standoff\":15},\"zerolinecolor\":\"white\",\"zerolinewidth\":2},\"yaxis\":{\"automargin\":true,\"gridcolor\":\"white\",\"linecolor\":\"white\",\"ticks\":\"\",\"title\":{\"standoff\":15},\"zerolinecolor\":\"white\",\"zerolinewidth\":2}}},\"xaxis\":{\"anchor\":\"y\",\"domain\":[0.0,1.0],\"title\":{\"text\":\"Price per Night (\\uff04)\"}},\"yaxis\":{\"anchor\":\"x\",\"domain\":[0.0,1.0],\"title\":{\"text\":\"Reviews Overall Rating\"}},\"legend\":{\"tracegroupgap\":0},\"margin\":{\"t\":60},\"title\":{\"text\":\"Price per Night (\\uff04) and Reviews Overall Rating\"}},                        {\"responsive\": true}                    ).then(function(){\n",
       "                            \n",
       "var gd = document.getElementById('392ea6a0-3264-4c6e-a271-a5a6dc2e7178');\n",
       "var x = new MutationObserver(function (mutations, observer) {{\n",
       "        var display = window.getComputedStyle(gd).display;\n",
       "        if (!display || display === 'none') {{\n",
       "            console.log([gd, 'removed!']);\n",
       "            Plotly.purge(gd);\n",
       "            observer.disconnect();\n",
       "        }}\n",
       "}});\n",
       "\n",
       "// Listen for the removal of the full notebook cells\n",
       "var notebookContainer = gd.closest('#notebook-container');\n",
       "if (notebookContainer) {{\n",
       "    x.observe(notebookContainer, {childList: true});\n",
       "}}\n",
       "\n",
       "// Listen for the clearing of the current output cell\n",
       "var outputEl = gd.closest('.output');\n",
       "if (outputEl) {{\n",
       "    x.observe(outputEl, {childList: true});\n",
       "}}\n",
       "\n",
       "                        })                };                });            </script>        </div>"
      ]
     },
     "metadata": {},
     "output_type": "display_data"
    }
   ],
   "source": [
    "price_rating_scatter = px.scatter(dfUNIQUE, x='Price_in_USD', y='Reviews_Overall_Rating', trendline='ols')\n",
    "price_rating_scatter.update_layout(title=\"Price per Night (＄) and Reviews Overall Rating\",\n",
    "                                    xaxis_title=\"Price per Night (＄)\",\n",
    "                                    yaxis_title=\"Reviews Overall Rating\")\n",
    "price_rating_scatter.show()"
   ]
  },
  {
   "cell_type": "markdown",
   "id": "7da0de3f-d7d3-43a2-8cd4-5d8ff1aa884e",
   "metadata": {},
   "source": [
    "## Types of Airbnb Listing Pie Chart"
   ]
  },
  {
   "cell_type": "code",
   "execution_count": 100,
   "id": "a2841c10-f1be-4dd8-add4-ecd36b45ed2e",
   "metadata": {},
   "outputs": [
    {
     "data": {
      "application/vnd.plotly.v1+json": {
       "config": {
        "plotlyServerURL": "https://plot.ly"
       },
       "data": [
        {
         "labels": [
          "Condo",
          "Apartment",
          "Private room",
          "Loft",
          "Hotel room",
          "Home",
          "Vacation home"
         ],
         "pull": [
          0,
          0,
          0,
          0,
          0.3,
          0.2,
          0.1
         ],
         "title": {
          "text": "Types of Airbnb Listing"
         },
         "type": "pie",
         "values": [
          169,
          50,
          25,
          5,
          3,
          1,
          1
         ]
        }
       ],
       "layout": {
        "autosize": true,
        "margin": {
         "b": 0,
         "l": 0,
         "r": 0,
         "t": 0
        },
        "template": {
         "data": {
          "bar": [
           {
            "error_x": {
             "color": "#2a3f5f"
            },
            "error_y": {
             "color": "#2a3f5f"
            },
            "marker": {
             "line": {
              "color": "#E5ECF6",
              "width": 0.5
             },
             "pattern": {
              "fillmode": "overlay",
              "size": 10,
              "solidity": 0.2
             }
            },
            "type": "bar"
           }
          ],
          "barpolar": [
           {
            "marker": {
             "line": {
              "color": "#E5ECF6",
              "width": 0.5
             },
             "pattern": {
              "fillmode": "overlay",
              "size": 10,
              "solidity": 0.2
             }
            },
            "type": "barpolar"
           }
          ],
          "carpet": [
           {
            "aaxis": {
             "endlinecolor": "#2a3f5f",
             "gridcolor": "white",
             "linecolor": "white",
             "minorgridcolor": "white",
             "startlinecolor": "#2a3f5f"
            },
            "baxis": {
             "endlinecolor": "#2a3f5f",
             "gridcolor": "white",
             "linecolor": "white",
             "minorgridcolor": "white",
             "startlinecolor": "#2a3f5f"
            },
            "type": "carpet"
           }
          ],
          "choropleth": [
           {
            "colorbar": {
             "outlinewidth": 0,
             "ticks": ""
            },
            "type": "choropleth"
           }
          ],
          "contour": [
           {
            "colorbar": {
             "outlinewidth": 0,
             "ticks": ""
            },
            "colorscale": [
             [
              0,
              "#0d0887"
             ],
             [
              0.1111111111111111,
              "#46039f"
             ],
             [
              0.2222222222222222,
              "#7201a8"
             ],
             [
              0.3333333333333333,
              "#9c179e"
             ],
             [
              0.4444444444444444,
              "#bd3786"
             ],
             [
              0.5555555555555556,
              "#d8576b"
             ],
             [
              0.6666666666666666,
              "#ed7953"
             ],
             [
              0.7777777777777778,
              "#fb9f3a"
             ],
             [
              0.8888888888888888,
              "#fdca26"
             ],
             [
              1,
              "#f0f921"
             ]
            ],
            "type": "contour"
           }
          ],
          "contourcarpet": [
           {
            "colorbar": {
             "outlinewidth": 0,
             "ticks": ""
            },
            "type": "contourcarpet"
           }
          ],
          "heatmap": [
           {
            "colorbar": {
             "outlinewidth": 0,
             "ticks": ""
            },
            "colorscale": [
             [
              0,
              "#0d0887"
             ],
             [
              0.1111111111111111,
              "#46039f"
             ],
             [
              0.2222222222222222,
              "#7201a8"
             ],
             [
              0.3333333333333333,
              "#9c179e"
             ],
             [
              0.4444444444444444,
              "#bd3786"
             ],
             [
              0.5555555555555556,
              "#d8576b"
             ],
             [
              0.6666666666666666,
              "#ed7953"
             ],
             [
              0.7777777777777778,
              "#fb9f3a"
             ],
             [
              0.8888888888888888,
              "#fdca26"
             ],
             [
              1,
              "#f0f921"
             ]
            ],
            "type": "heatmap"
           }
          ],
          "heatmapgl": [
           {
            "colorbar": {
             "outlinewidth": 0,
             "ticks": ""
            },
            "colorscale": [
             [
              0,
              "#0d0887"
             ],
             [
              0.1111111111111111,
              "#46039f"
             ],
             [
              0.2222222222222222,
              "#7201a8"
             ],
             [
              0.3333333333333333,
              "#9c179e"
             ],
             [
              0.4444444444444444,
              "#bd3786"
             ],
             [
              0.5555555555555556,
              "#d8576b"
             ],
             [
              0.6666666666666666,
              "#ed7953"
             ],
             [
              0.7777777777777778,
              "#fb9f3a"
             ],
             [
              0.8888888888888888,
              "#fdca26"
             ],
             [
              1,
              "#f0f921"
             ]
            ],
            "type": "heatmapgl"
           }
          ],
          "histogram": [
           {
            "marker": {
             "pattern": {
              "fillmode": "overlay",
              "size": 10,
              "solidity": 0.2
             }
            },
            "type": "histogram"
           }
          ],
          "histogram2d": [
           {
            "colorbar": {
             "outlinewidth": 0,
             "ticks": ""
            },
            "colorscale": [
             [
              0,
              "#0d0887"
             ],
             [
              0.1111111111111111,
              "#46039f"
             ],
             [
              0.2222222222222222,
              "#7201a8"
             ],
             [
              0.3333333333333333,
              "#9c179e"
             ],
             [
              0.4444444444444444,
              "#bd3786"
             ],
             [
              0.5555555555555556,
              "#d8576b"
             ],
             [
              0.6666666666666666,
              "#ed7953"
             ],
             [
              0.7777777777777778,
              "#fb9f3a"
             ],
             [
              0.8888888888888888,
              "#fdca26"
             ],
             [
              1,
              "#f0f921"
             ]
            ],
            "type": "histogram2d"
           }
          ],
          "histogram2dcontour": [
           {
            "colorbar": {
             "outlinewidth": 0,
             "ticks": ""
            },
            "colorscale": [
             [
              0,
              "#0d0887"
             ],
             [
              0.1111111111111111,
              "#46039f"
             ],
             [
              0.2222222222222222,
              "#7201a8"
             ],
             [
              0.3333333333333333,
              "#9c179e"
             ],
             [
              0.4444444444444444,
              "#bd3786"
             ],
             [
              0.5555555555555556,
              "#d8576b"
             ],
             [
              0.6666666666666666,
              "#ed7953"
             ],
             [
              0.7777777777777778,
              "#fb9f3a"
             ],
             [
              0.8888888888888888,
              "#fdca26"
             ],
             [
              1,
              "#f0f921"
             ]
            ],
            "type": "histogram2dcontour"
           }
          ],
          "mesh3d": [
           {
            "colorbar": {
             "outlinewidth": 0,
             "ticks": ""
            },
            "type": "mesh3d"
           }
          ],
          "parcoords": [
           {
            "line": {
             "colorbar": {
              "outlinewidth": 0,
              "ticks": ""
             }
            },
            "type": "parcoords"
           }
          ],
          "pie": [
           {
            "automargin": true,
            "type": "pie"
           }
          ],
          "scatter": [
           {
            "marker": {
             "colorbar": {
              "outlinewidth": 0,
              "ticks": ""
             }
            },
            "type": "scatter"
           }
          ],
          "scatter3d": [
           {
            "line": {
             "colorbar": {
              "outlinewidth": 0,
              "ticks": ""
             }
            },
            "marker": {
             "colorbar": {
              "outlinewidth": 0,
              "ticks": ""
             }
            },
            "type": "scatter3d"
           }
          ],
          "scattercarpet": [
           {
            "marker": {
             "colorbar": {
              "outlinewidth": 0,
              "ticks": ""
             }
            },
            "type": "scattercarpet"
           }
          ],
          "scattergeo": [
           {
            "marker": {
             "colorbar": {
              "outlinewidth": 0,
              "ticks": ""
             }
            },
            "type": "scattergeo"
           }
          ],
          "scattergl": [
           {
            "marker": {
             "colorbar": {
              "outlinewidth": 0,
              "ticks": ""
             }
            },
            "type": "scattergl"
           }
          ],
          "scattermapbox": [
           {
            "marker": {
             "colorbar": {
              "outlinewidth": 0,
              "ticks": ""
             }
            },
            "type": "scattermapbox"
           }
          ],
          "scatterpolar": [
           {
            "marker": {
             "colorbar": {
              "outlinewidth": 0,
              "ticks": ""
             }
            },
            "type": "scatterpolar"
           }
          ],
          "scatterpolargl": [
           {
            "marker": {
             "colorbar": {
              "outlinewidth": 0,
              "ticks": ""
             }
            },
            "type": "scatterpolargl"
           }
          ],
          "scatterternary": [
           {
            "marker": {
             "colorbar": {
              "outlinewidth": 0,
              "ticks": ""
             }
            },
            "type": "scatterternary"
           }
          ],
          "surface": [
           {
            "colorbar": {
             "outlinewidth": 0,
             "ticks": ""
            },
            "colorscale": [
             [
              0,
              "#0d0887"
             ],
             [
              0.1111111111111111,
              "#46039f"
             ],
             [
              0.2222222222222222,
              "#7201a8"
             ],
             [
              0.3333333333333333,
              "#9c179e"
             ],
             [
              0.4444444444444444,
              "#bd3786"
             ],
             [
              0.5555555555555556,
              "#d8576b"
             ],
             [
              0.6666666666666666,
              "#ed7953"
             ],
             [
              0.7777777777777778,
              "#fb9f3a"
             ],
             [
              0.8888888888888888,
              "#fdca26"
             ],
             [
              1,
              "#f0f921"
             ]
            ],
            "type": "surface"
           }
          ],
          "table": [
           {
            "cells": {
             "fill": {
              "color": "#EBF0F8"
             },
             "line": {
              "color": "white"
             }
            },
            "header": {
             "fill": {
              "color": "#C8D4E3"
             },
             "line": {
              "color": "white"
             }
            },
            "type": "table"
           }
          ]
         },
         "layout": {
          "annotationdefaults": {
           "arrowcolor": "#2a3f5f",
           "arrowhead": 0,
           "arrowwidth": 1
          },
          "autotypenumbers": "strict",
          "coloraxis": {
           "colorbar": {
            "outlinewidth": 0,
            "ticks": ""
           }
          },
          "colorscale": {
           "diverging": [
            [
             0,
             "#8e0152"
            ],
            [
             0.1,
             "#c51b7d"
            ],
            [
             0.2,
             "#de77ae"
            ],
            [
             0.3,
             "#f1b6da"
            ],
            [
             0.4,
             "#fde0ef"
            ],
            [
             0.5,
             "#f7f7f7"
            ],
            [
             0.6,
             "#e6f5d0"
            ],
            [
             0.7,
             "#b8e186"
            ],
            [
             0.8,
             "#7fbc41"
            ],
            [
             0.9,
             "#4d9221"
            ],
            [
             1,
             "#276419"
            ]
           ],
           "sequential": [
            [
             0,
             "#0d0887"
            ],
            [
             0.1111111111111111,
             "#46039f"
            ],
            [
             0.2222222222222222,
             "#7201a8"
            ],
            [
             0.3333333333333333,
             "#9c179e"
            ],
            [
             0.4444444444444444,
             "#bd3786"
            ],
            [
             0.5555555555555556,
             "#d8576b"
            ],
            [
             0.6666666666666666,
             "#ed7953"
            ],
            [
             0.7777777777777778,
             "#fb9f3a"
            ],
            [
             0.8888888888888888,
             "#fdca26"
            ],
            [
             1,
             "#f0f921"
            ]
           ],
           "sequentialminus": [
            [
             0,
             "#0d0887"
            ],
            [
             0.1111111111111111,
             "#46039f"
            ],
            [
             0.2222222222222222,
             "#7201a8"
            ],
            [
             0.3333333333333333,
             "#9c179e"
            ],
            [
             0.4444444444444444,
             "#bd3786"
            ],
            [
             0.5555555555555556,
             "#d8576b"
            ],
            [
             0.6666666666666666,
             "#ed7953"
            ],
            [
             0.7777777777777778,
             "#fb9f3a"
            ],
            [
             0.8888888888888888,
             "#fdca26"
            ],
            [
             1,
             "#f0f921"
            ]
           ]
          },
          "colorway": [
           "#636efa",
           "#EF553B",
           "#00cc96",
           "#ab63fa",
           "#FFA15A",
           "#19d3f3",
           "#FF6692",
           "#B6E880",
           "#FF97FF",
           "#FECB52"
          ],
          "font": {
           "color": "#2a3f5f"
          },
          "geo": {
           "bgcolor": "white",
           "lakecolor": "white",
           "landcolor": "#E5ECF6",
           "showlakes": true,
           "showland": true,
           "subunitcolor": "white"
          },
          "hoverlabel": {
           "align": "left"
          },
          "hovermode": "closest",
          "mapbox": {
           "style": "light"
          },
          "paper_bgcolor": "white",
          "plot_bgcolor": "#E5ECF6",
          "polar": {
           "angularaxis": {
            "gridcolor": "white",
            "linecolor": "white",
            "ticks": ""
           },
           "bgcolor": "#E5ECF6",
           "radialaxis": {
            "gridcolor": "white",
            "linecolor": "white",
            "ticks": ""
           }
          },
          "scene": {
           "xaxis": {
            "backgroundcolor": "#E5ECF6",
            "gridcolor": "white",
            "gridwidth": 2,
            "linecolor": "white",
            "showbackground": true,
            "ticks": "",
            "zerolinecolor": "white"
           },
           "yaxis": {
            "backgroundcolor": "#E5ECF6",
            "gridcolor": "white",
            "gridwidth": 2,
            "linecolor": "white",
            "showbackground": true,
            "ticks": "",
            "zerolinecolor": "white"
           },
           "zaxis": {
            "backgroundcolor": "#E5ECF6",
            "gridcolor": "white",
            "gridwidth": 2,
            "linecolor": "white",
            "showbackground": true,
            "ticks": "",
            "zerolinecolor": "white"
           }
          },
          "shapedefaults": {
           "line": {
            "color": "#2a3f5f"
           }
          },
          "ternary": {
           "aaxis": {
            "gridcolor": "white",
            "linecolor": "white",
            "ticks": ""
           },
           "baxis": {
            "gridcolor": "white",
            "linecolor": "white",
            "ticks": ""
           },
           "bgcolor": "#E5ECF6",
           "caxis": {
            "gridcolor": "white",
            "linecolor": "white",
            "ticks": ""
           }
          },
          "title": {
           "x": 0.05
          },
          "xaxis": {
           "automargin": true,
           "gridcolor": "white",
           "linecolor": "white",
           "ticks": "",
           "title": {
            "standoff": 15
           },
           "zerolinecolor": "white",
           "zerolinewidth": 2
          },
          "yaxis": {
           "automargin": true,
           "gridcolor": "white",
           "linecolor": "white",
           "ticks": "",
           "title": {
            "standoff": 15
           },
           "zerolinecolor": "white",
           "zerolinewidth": 2
          }
         }
        }
       }
      },
      "image/png": "[encoded data removed]",
      "text/html": [
       "<div>                            <div id=\"435f0451-2673-497e-a732-1026e8cdd719\" class=\"plotly-graph-div\" style=\"height:525px; width:100%;\"></div>            <script type=\"text/javascript\">                require([\"plotly\"], function(Plotly) {                    window.PLOTLYENV=window.PLOTLYENV || {};                                    if (document.getElementById(\"435f0451-2673-497e-a732-1026e8cdd719\")) {                    Plotly.newPlot(                        \"435f0451-2673-497e-a732-1026e8cdd719\",                        [{\"labels\":[\"Condo\",\"Apartment\",\"Private room\",\"Loft\",\"Hotel room\",\"Home\",\"Vacation home\"],\"pull\":[0,0,0,0,0.3,0.2,0.1],\"title\":{\"text\":\"Types of Airbnb Listing\"},\"values\":[169,50,25,5,3,1,1],\"type\":\"pie\"}],                        {\"template\":{\"data\":{\"bar\":[{\"error_x\":{\"color\":\"#2a3f5f\"},\"error_y\":{\"color\":\"#2a3f5f\"},\"marker\":{\"line\":{\"color\":\"#E5ECF6\",\"width\":0.5},\"pattern\":{\"fillmode\":\"overlay\",\"size\":10,\"solidity\":0.2}},\"type\":\"bar\"}],\"barpolar\":[{\"marker\":{\"line\":{\"color\":\"#E5ECF6\",\"width\":0.5},\"pattern\":{\"fillmode\":\"overlay\",\"size\":10,\"solidity\":0.2}},\"type\":\"barpolar\"}],\"carpet\":[{\"aaxis\":{\"endlinecolor\":\"#2a3f5f\",\"gridcolor\":\"white\",\"linecolor\":\"white\",\"minorgridcolor\":\"white\",\"startlinecolor\":\"#2a3f5f\"},\"baxis\":{\"endlinecolor\":\"#2a3f5f\",\"gridcolor\":\"white\",\"linecolor\":\"white\",\"minorgridcolor\":\"white\",\"startlinecolor\":\"#2a3f5f\"},\"type\":\"carpet\"}],\"choropleth\":[{\"colorbar\":{\"outlinewidth\":0,\"ticks\":\"\"},\"type\":\"choropleth\"}],\"contour\":[{\"colorbar\":{\"outlinewidth\":0,\"ticks\":\"\"},\"colorscale\":[[0.0,\"#0d0887\"],[0.1111111111111111,\"#46039f\"],[0.2222222222222222,\"#7201a8\"],[0.3333333333333333,\"#9c179e\"],[0.4444444444444444,\"#bd3786\"],[0.5555555555555556,\"#d8576b\"],[0.6666666666666666,\"#ed7953\"],[0.7777777777777778,\"#fb9f3a\"],[0.8888888888888888,\"#fdca26\"],[1.0,\"#f0f921\"]],\"type\":\"contour\"}],\"contourcarpet\":[{\"colorbar\":{\"outlinewidth\":0,\"ticks\":\"\"},\"type\":\"contourcarpet\"}],\"heatmap\":[{\"colorbar\":{\"outlinewidth\":0,\"ticks\":\"\"},\"colorscale\":[[0.0,\"#0d0887\"],[0.1111111111111111,\"#46039f\"],[0.2222222222222222,\"#7201a8\"],[0.3333333333333333,\"#9c179e\"],[0.4444444444444444,\"#bd3786\"],[0.5555555555555556,\"#d8576b\"],[0.6666666666666666,\"#ed7953\"],[0.7777777777777778,\"#fb9f3a\"],[0.8888888888888888,\"#fdca26\"],[1.0,\"#f0f921\"]],\"type\":\"heatmap\"}],\"heatmapgl\":[{\"colorbar\":{\"outlinewidth\":0,\"ticks\":\"\"},\"colorscale\":[[0.0,\"#0d0887\"],[0.1111111111111111,\"#46039f\"],[0.2222222222222222,\"#7201a8\"],[0.3333333333333333,\"#9c179e\"],[0.4444444444444444,\"#bd3786\"],[0.5555555555555556,\"#d8576b\"],[0.6666666666666666,\"#ed7953\"],[0.7777777777777778,\"#fb9f3a\"],[0.8888888888888888,\"#fdca26\"],[1.0,\"#f0f921\"]],\"type\":\"heatmapgl\"}],\"histogram\":[{\"marker\":{\"pattern\":{\"fillmode\":\"overlay\",\"size\":10,\"solidity\":0.2}},\"type\":\"histogram\"}],\"histogram2d\":[{\"colorbar\":{\"outlinewidth\":0,\"ticks\":\"\"},\"colorscale\":[[0.0,\"#0d0887\"],[0.1111111111111111,\"#46039f\"],[0.2222222222222222,\"#7201a8\"],[0.3333333333333333,\"#9c179e\"],[0.4444444444444444,\"#bd3786\"],[0.5555555555555556,\"#d8576b\"],[0.6666666666666666,\"#ed7953\"],[0.7777777777777778,\"#fb9f3a\"],[0.8888888888888888,\"#fdca26\"],[1.0,\"#f0f921\"]],\"type\":\"histogram2d\"}],\"histogram2dcontour\":[{\"colorbar\":{\"outlinewidth\":0,\"ticks\":\"\"},\"colorscale\":[[0.0,\"#0d0887\"],[0.1111111111111111,\"#46039f\"],[0.2222222222222222,\"#7201a8\"],[0.3333333333333333,\"#9c179e\"],[0.4444444444444444,\"#bd3786\"],[0.5555555555555556,\"#d8576b\"],[0.6666666666666666,\"#ed7953\"],[0.7777777777777778,\"#fb9f3a\"],[0.8888888888888888,\"#fdca26\"],[1.0,\"#f0f921\"]],\"type\":\"histogram2dcontour\"}],\"mesh3d\":[{\"colorbar\":{\"outlinewidth\":0,\"ticks\":\"\"},\"type\":\"mesh3d\"}],\"parcoords\":[{\"line\":{\"colorbar\":{\"outlinewidth\":0,\"ticks\":\"\"}},\"type\":\"parcoords\"}],\"pie\":[{\"automargin\":true,\"type\":\"pie\"}],\"scatter\":[{\"marker\":{\"colorbar\":{\"outlinewidth\":0,\"ticks\":\"\"}},\"type\":\"scatter\"}],\"scatter3d\":[{\"line\":{\"colorbar\":{\"outlinewidth\":0,\"ticks\":\"\"}},\"marker\":{\"colorbar\":{\"outlinewidth\":0,\"ticks\":\"\"}},\"type\":\"scatter3d\"}],\"scattercarpet\":[{\"marker\":{\"colorbar\":{\"outlinewidth\":0,\"ticks\":\"\"}},\"type\":\"scattercarpet\"}],\"scattergeo\":[{\"marker\":{\"colorbar\":{\"outlinewidth\":0,\"ticks\":\"\"}},\"type\":\"scattergeo\"}],\"scattergl\":[{\"marker\":{\"colorbar\":{\"outlinewidth\":0,\"ticks\":\"\"}},\"type\":\"scattergl\"}],\"scattermapbox\":[{\"marker\":{\"colorbar\":{\"outlinewidth\":0,\"ticks\":\"\"}},\"type\":\"scattermapbox\"}],\"scatterpolar\":[{\"marker\":{\"colorbar\":{\"outlinewidth\":0,\"ticks\":\"\"}},\"type\":\"scatterpolar\"}],\"scatterpolargl\":[{\"marker\":{\"colorbar\":{\"outlinewidth\":0,\"ticks\":\"\"}},\"type\":\"scatterpolargl\"}],\"scatterternary\":[{\"marker\":{\"colorbar\":{\"outlinewidth\":0,\"ticks\":\"\"}},\"type\":\"scatterternary\"}],\"surface\":[{\"colorbar\":{\"outlinewidth\":0,\"ticks\":\"\"},\"colorscale\":[[0.0,\"#0d0887\"],[0.1111111111111111,\"#46039f\"],[0.2222222222222222,\"#7201a8\"],[0.3333333333333333,\"#9c179e\"],[0.4444444444444444,\"#bd3786\"],[0.5555555555555556,\"#d8576b\"],[0.6666666666666666,\"#ed7953\"],[0.7777777777777778,\"#fb9f3a\"],[0.8888888888888888,\"#fdca26\"],[1.0,\"#f0f921\"]],\"type\":\"surface\"}],\"table\":[{\"cells\":{\"fill\":{\"color\":\"#EBF0F8\"},\"line\":{\"color\":\"white\"}},\"header\":{\"fill\":{\"color\":\"#C8D4E3\"},\"line\":{\"color\":\"white\"}},\"type\":\"table\"}]},\"layout\":{\"annotationdefaults\":{\"arrowcolor\":\"#2a3f5f\",\"arrowhead\":0,\"arrowwidth\":1},\"autotypenumbers\":\"strict\",\"coloraxis\":{\"colorbar\":{\"outlinewidth\":0,\"ticks\":\"\"}},\"colorscale\":{\"diverging\":[[0,\"#8e0152\"],[0.1,\"#c51b7d\"],[0.2,\"#de77ae\"],[0.3,\"#f1b6da\"],[0.4,\"#fde0ef\"],[0.5,\"#f7f7f7\"],[0.6,\"#e6f5d0\"],[0.7,\"#b8e186\"],[0.8,\"#7fbc41\"],[0.9,\"#4d9221\"],[1,\"#276419\"]],\"sequential\":[[0.0,\"#0d0887\"],[0.1111111111111111,\"#46039f\"],[0.2222222222222222,\"#7201a8\"],[0.3333333333333333,\"#9c179e\"],[0.4444444444444444,\"#bd3786\"],[0.5555555555555556,\"#d8576b\"],[0.6666666666666666,\"#ed7953\"],[0.7777777777777778,\"#fb9f3a\"],[0.8888888888888888,\"#fdca26\"],[1.0,\"#f0f921\"]],\"sequentialminus\":[[0.0,\"#0d0887\"],[0.1111111111111111,\"#46039f\"],[0.2222222222222222,\"#7201a8\"],[0.3333333333333333,\"#9c179e\"],[0.4444444444444444,\"#bd3786\"],[0.5555555555555556,\"#d8576b\"],[0.6666666666666666,\"#ed7953\"],[0.7777777777777778,\"#fb9f3a\"],[0.8888888888888888,\"#fdca26\"],[1.0,\"#f0f921\"]]},\"colorway\":[\"#636efa\",\"#EF553B\",\"#00cc96\",\"#ab63fa\",\"#FFA15A\",\"#19d3f3\",\"#FF6692\",\"#B6E880\",\"#FF97FF\",\"#FECB52\"],\"font\":{\"color\":\"#2a3f5f\"},\"geo\":{\"bgcolor\":\"white\",\"lakecolor\":\"white\",\"landcolor\":\"#E5ECF6\",\"showlakes\":true,\"showland\":true,\"subunitcolor\":\"white\"},\"hoverlabel\":{\"align\":\"left\"},\"hovermode\":\"closest\",\"mapbox\":{\"style\":\"light\"},\"paper_bgcolor\":\"white\",\"plot_bgcolor\":\"#E5ECF6\",\"polar\":{\"angularaxis\":{\"gridcolor\":\"white\",\"linecolor\":\"white\",\"ticks\":\"\"},\"bgcolor\":\"#E5ECF6\",\"radialaxis\":{\"gridcolor\":\"white\",\"linecolor\":\"white\",\"ticks\":\"\"}},\"scene\":{\"xaxis\":{\"backgroundcolor\":\"#E5ECF6\",\"gridcolor\":\"white\",\"gridwidth\":2,\"linecolor\":\"white\",\"showbackground\":true,\"ticks\":\"\",\"zerolinecolor\":\"white\"},\"yaxis\":{\"backgroundcolor\":\"#E5ECF6\",\"gridcolor\":\"white\",\"gridwidth\":2,\"linecolor\":\"white\",\"showbackground\":true,\"ticks\":\"\",\"zerolinecolor\":\"white\"},\"zaxis\":{\"backgroundcolor\":\"#E5ECF6\",\"gridcolor\":\"white\",\"gridwidth\":2,\"linecolor\":\"white\",\"showbackground\":true,\"ticks\":\"\",\"zerolinecolor\":\"white\"}},\"shapedefaults\":{\"line\":{\"color\":\"#2a3f5f\"}},\"ternary\":{\"aaxis\":{\"gridcolor\":\"white\",\"linecolor\":\"white\",\"ticks\":\"\"},\"baxis\":{\"gridcolor\":\"white\",\"linecolor\":\"white\",\"ticks\":\"\"},\"bgcolor\":\"#E5ECF6\",\"caxis\":{\"gridcolor\":\"white\",\"linecolor\":\"white\",\"ticks\":\"\"}},\"title\":{\"x\":0.05},\"xaxis\":{\"automargin\":true,\"gridcolor\":\"white\",\"linecolor\":\"white\",\"ticks\":\"\",\"title\":{\"standoff\":15},\"zerolinecolor\":\"white\",\"zerolinewidth\":2},\"yaxis\":{\"automargin\":true,\"gridcolor\":\"white\",\"linecolor\":\"white\",\"ticks\":\"\",\"title\":{\"standoff\":15},\"zerolinecolor\":\"white\",\"zerolinewidth\":2}}},\"margin\":{\"t\":0,\"b\":0,\"l\":0,\"r\":0}},                        {\"responsive\": true}                    ).then(function(){\n",
       "                            \n",
       "var gd = document.getElementById('435f0451-2673-497e-a732-1026e8cdd719');\n",
       "var x = new MutationObserver(function (mutations, observer) {{\n",
       "        var display = window.getComputedStyle(gd).display;\n",
       "        if (!display || display === 'none') {{\n",
       "            console.log([gd, 'removed!']);\n",
       "            Plotly.purge(gd);\n",
       "            observer.disconnect();\n",
       "        }}\n",
       "}});\n",
       "\n",
       "// Listen for the removal of the full notebook cells\n",
       "var notebookContainer = gd.closest('#notebook-container');\n",
       "if (notebookContainer) {{\n",
       "    x.observe(notebookContainer, {childList: true});\n",
       "}}\n",
       "\n",
       "// Listen for the clearing of the current output cell\n",
       "var outputEl = gd.closest('.output');\n",
       "if (outputEl) {{\n",
       "    x.observe(outputEl, {childList: true});\n",
       "}}\n",
       "\n",
       "                        })                };                });            </script>        </div>"
      ]
     },
     "metadata": {},
     "output_type": "display_data"
    }
   ],
   "source": [
    "type_values = dfUNIQUE.Type_of_Airbnb_Listing.value_counts().values\n",
    "type_labels = dfUNIQUE.Type_of_Airbnb_Listing.value_counts().index\n",
    "type_pie = go.Figure(data=[go.Pie(labels=type_labels, values=type_values,  title='Types of Airbnb Listing', pull=[0, 0, 0, 0, 0.3, 0.2, 0.1])])\n",
    "type_pie.update_layout(margin=dict(t=0, b=0, l=0, r=0))\n",
    "type_pie.show()"
   ]
  },
  {
   "cell_type": "markdown",
   "id": "8e5723f8-6f68-4ebb-90b0-6c391fab5595",
   "metadata": {},
   "source": [
    "## Type of Airbnb Listing and # of Reviews Table"
   ]
  },
  {
   "cell_type": "code",
   "execution_count": 119,
   "id": "696149fd-5182-406b-93b5-010928a33441",
   "metadata": {},
   "outputs": [
    {
     "data": {
      "text/html": [
       "<div>\n",
       "<style scoped>\n",
       "    .dataframe tbody tr th:only-of-type {\n",
       "        vertical-align: middle;\n",
       "    }\n",
       "\n",
       "    .dataframe tbody tr th {\n",
       "        vertical-align: top;\n",
       "    }\n",
       "\n",
       "    .dataframe thead tr th {\n",
       "        text-align: left;\n",
       "    }\n",
       "\n",
       "    .dataframe thead tr:last-of-type th {\n",
       "        text-align: right;\n",
       "    }\n",
       "</style>\n",
       "<table border=\"1\" class=\"dataframe\">\n",
       "  <thead>\n",
       "    <tr>\n",
       "      <th></th>\n",
       "      <th colspan=\"2\" halign=\"left\">#_of_Reviews</th>\n",
       "    </tr>\n",
       "    <tr>\n",
       "      <th></th>\n",
       "      <th>mean</th>\n",
       "      <th>count</th>\n",
       "    </tr>\n",
       "    <tr>\n",
       "      <th>Type_of_Airbnb_Listing</th>\n",
       "      <th></th>\n",
       "      <th></th>\n",
       "    </tr>\n",
       "  </thead>\n",
       "  <tbody>\n",
       "    <tr>\n",
       "      <th>Hotel room</th>\n",
       "      <td>128.33</td>\n",
       "      <td>3</td>\n",
       "    </tr>\n",
       "    <tr>\n",
       "      <th>Loft</th>\n",
       "      <td>77.40</td>\n",
       "      <td>5</td>\n",
       "    </tr>\n",
       "    <tr>\n",
       "      <th>Apartment</th>\n",
       "      <td>61.48</td>\n",
       "      <td>50</td>\n",
       "    </tr>\n",
       "    <tr>\n",
       "      <th>Condo</th>\n",
       "      <td>57.21</td>\n",
       "      <td>169</td>\n",
       "    </tr>\n",
       "    <tr>\n",
       "      <th>Private room</th>\n",
       "      <td>23.80</td>\n",
       "      <td>25</td>\n",
       "    </tr>\n",
       "    <tr>\n",
       "      <th>Home</th>\n",
       "      <td>22.00</td>\n",
       "      <td>1</td>\n",
       "    </tr>\n",
       "    <tr>\n",
       "      <th>Vacation home</th>\n",
       "      <td>19.00</td>\n",
       "      <td>1</td>\n",
       "    </tr>\n",
       "  </tbody>\n",
       "</table>\n",
       "</div>"
      ],
      "text/plain": [
       "                       #_of_Reviews      \n",
       "                               mean count\n",
       "Type_of_Airbnb_Listing                   \n",
       "Hotel room                   128.33     3\n",
       "Loft                          77.40     5\n",
       "Apartment                     61.48    50\n",
       "Condo                         57.21   169\n",
       "Private room                  23.80    25\n",
       "Home                          22.00     1\n",
       "Vacation home                 19.00     1"
      ]
     },
     "execution_count": 119,
     "metadata": {},
     "output_type": "execute_result"
    }
   ],
   "source": [
    "type_reviews_table = dfUNIQUE[['Type_of_Airbnb_Listing','#_of_Reviews']].groupby('Type_of_Airbnb_Listing').agg(['mean','count']).sort_values(by=('#_of_Reviews','mean'), ascending=False).round(2)\n",
    "type_reviews_table"
   ]
  },
  {
   "cell_type": "code",
   "execution_count": 123,
   "id": "4da32dd0-cb8e-4e20-b706-bd2272aa0ed7",
   "metadata": {},
   "outputs": [
    {
     "name": "stderr",
     "output_type": "stream",
     "text": [
      "objc[11147]: Class WebSwapCGLLayer is implemented in both /System/Library/Frameworks/WebKit.framework/Versions/A/Frameworks/WebCore.framework/Versions/A/Frameworks/libANGLE-shared.dylib (0x7ffb5c62eec8) and /Applications/Google Chrome.app/Contents/Frameworks/Google Chrome Framework.framework/Versions/103.0.5060.134/Libraries/libGLESv2.dylib (0x1087ced18). One of the two will be used. Which one is undefined.\n",
      "[0726/134503.412389:INFO:headless_shell.cc(660)] Written to file /var/folders/rf/ryzltj3n041dfr_8hm5_wgyc0000gn/T/tmp3y49y8w4/temp.png.\n"
     ]
    }
   ],
   "source": [
    "dfi.export(type_reviews_table, \"type_reviews_table.png\")"
   ]
  },
  {
   "cell_type": "markdown",
   "id": "59995c17-7139-4bbe-89cc-d76d32294b02",
   "metadata": {},
   "source": [
    "## Type of Airbnb Listing and # of Reviews Overall Rating Table"
   ]
  },
  {
   "cell_type": "code",
   "execution_count": 124,
   "id": "b81c1771-f6dd-4c10-b30c-64ce7b330039",
   "metadata": {},
   "outputs": [
    {
     "data": {
      "text/html": [
       "<div>\n",
       "<style scoped>\n",
       "    .dataframe tbody tr th:only-of-type {\n",
       "        vertical-align: middle;\n",
       "    }\n",
       "\n",
       "    .dataframe tbody tr th {\n",
       "        vertical-align: top;\n",
       "    }\n",
       "\n",
       "    .dataframe thead tr th {\n",
       "        text-align: left;\n",
       "    }\n",
       "\n",
       "    .dataframe thead tr:last-of-type th {\n",
       "        text-align: right;\n",
       "    }\n",
       "</style>\n",
       "<table border=\"1\" class=\"dataframe\">\n",
       "  <thead>\n",
       "    <tr>\n",
       "      <th></th>\n",
       "      <th colspan=\"2\" halign=\"left\">Reviews_Overall_Rating</th>\n",
       "    </tr>\n",
       "    <tr>\n",
       "      <th></th>\n",
       "      <th>mean</th>\n",
       "      <th>count</th>\n",
       "    </tr>\n",
       "    <tr>\n",
       "      <th>Type_of_Airbnb_Listing</th>\n",
       "      <th></th>\n",
       "      <th></th>\n",
       "    </tr>\n",
       "  </thead>\n",
       "  <tbody>\n",
       "    <tr>\n",
       "      <th>Vacation home</th>\n",
       "      <td>5.00</td>\n",
       "      <td>1</td>\n",
       "    </tr>\n",
       "    <tr>\n",
       "      <th>Loft</th>\n",
       "      <td>4.93</td>\n",
       "      <td>5</td>\n",
       "    </tr>\n",
       "    <tr>\n",
       "      <th>Home</th>\n",
       "      <td>4.55</td>\n",
       "      <td>1</td>\n",
       "    </tr>\n",
       "    <tr>\n",
       "      <th>Apartment</th>\n",
       "      <td>4.55</td>\n",
       "      <td>50</td>\n",
       "    </tr>\n",
       "    <tr>\n",
       "      <th>Condo</th>\n",
       "      <td>4.46</td>\n",
       "      <td>169</td>\n",
       "    </tr>\n",
       "    <tr>\n",
       "      <th>Private room</th>\n",
       "      <td>4.39</td>\n",
       "      <td>25</td>\n",
       "    </tr>\n",
       "    <tr>\n",
       "      <th>Hotel room</th>\n",
       "      <td>3.21</td>\n",
       "      <td>3</td>\n",
       "    </tr>\n",
       "  </tbody>\n",
       "</table>\n",
       "</div>"
      ],
      "text/plain": [
       "                       Reviews_Overall_Rating      \n",
       "                                         mean count\n",
       "Type_of_Airbnb_Listing                             \n",
       "Vacation home                            5.00     1\n",
       "Loft                                     4.93     5\n",
       "Home                                     4.55     1\n",
       "Apartment                                4.55    50\n",
       "Condo                                    4.46   169\n",
       "Private room                             4.39    25\n",
       "Hotel room                               3.21     3"
      ]
     },
     "execution_count": 124,
     "metadata": {},
     "output_type": "execute_result"
    }
   ],
   "source": [
    "type_reviews_rating = dfUNIQUE[['Type_of_Airbnb_Listing','Reviews_Overall_Rating']].groupby('Type_of_Airbnb_Listing').agg(['mean','count']).sort_values(by=('Reviews_Overall_Rating','mean'), ascending=False).round(2)\n",
    "type_reviews_rating"
   ]
  },
  {
   "cell_type": "code",
   "execution_count": 125,
   "id": "cf86c08f-4bf0-425c-ab49-bf8dd3eaaa08",
   "metadata": {},
   "outputs": [
    {
     "name": "stderr",
     "output_type": "stream",
     "text": [
      "objc[11598]: Class WebSwapCGLLayer is implemented in both /System/Library/Frameworks/WebKit.framework/Versions/A/Frameworks/WebCore.framework/Versions/A/Frameworks/libANGLE-shared.dylib (0x7ffb5c62eec8) and /Applications/Google Chrome.app/Contents/Frameworks/Google Chrome Framework.framework/Versions/103.0.5060.134/Libraries/libGLESv2.dylib (0x105ed5d18). One of the two will be used. Which one is undefined.\n",
      "[0726/143346.359825:INFO:headless_shell.cc(660)] Written to file /var/folders/rf/ryzltj3n041dfr_8hm5_wgyc0000gn/T/tmpdx88weno/temp.png.\n"
     ]
    }
   ],
   "source": [
    "dfi.export(type_reviews_rating, \"type_reviews_rating.png\")"
   ]
  },
  {
   "cell_type": "code",
   "execution_count": null,
   "id": "0cfc2d66-6ed2-47d5-9ea2-34116b44eb34",
   "metadata": {},
   "outputs": [],
   "source": []
  }
 ],
 "metadata": {
  "kernelspec": {
   "display_name": "Python 3 (ipykernel)",
   "language": "python",
   "name": "python3"
  },
  "language_info": {
   "codemirror_mode": {
    "name": "ipython",
    "version": 3
   },
   "file_extension": ".py",
   "mimetype": "text/x-python",
   "name": "python",
   "nbconvert_exporter": "python",
   "pygments_lexer": "ipython3",
   "version": "3.9.12"
  }
 },
 "nbformat": 4,
 "nbformat_minor": 5
}
